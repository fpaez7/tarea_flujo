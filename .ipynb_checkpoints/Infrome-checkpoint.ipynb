{
 "cells": [
  {
   "cell_type": "markdown",
   "metadata": {},
   "source": [
    "# Tarea 1 Grupo\n"
   ]
  },
  {
   "cell_type": "markdown",
   "metadata": {},
   "source": [
    "Contextualizar un poco (archivos secundarios y despues el principal con las respuestas a las preguntas)\n"
   ]
  },
  {
   "cell_type": "markdown",
   "metadata": {},
   "source": [
    "## Archivos secundarios\n"
   ]
  },
  {
   "cell_type": "code",
   "execution_count": 3,
   "metadata": {},
   "outputs": [],
   "source": [
    "from random import seed, random\n",
    "from numpy.random import poisson, negative_binomial\n",
    "from numpy.random import seed as npseed\n",
    "\n",
    "\n",
    "\n",
    "def simulation_parameters(total, delta_t,s):\n",
    "    seed(s)\n",
    "    npseed(s)\n",
    "    r_p = {i: poisson(15) for i in range(total)} # El tiempo de recuperacion\n",
    "    c_p = {i: min(r_p[i], negative_binomial(6,0.5)) for i in range(total)} # Tiempo en que se da cuenta\n",
    "    contagios = {t: {i: random() for i in range(total)} for t in range(delta_t + 1)}\n",
    "\n",
    "    return r_p, c_p, contagios\n",
    "### es ineficiente, porque nos da el numero de probabilidad de que se contagie en cada día aunque no se reunan (son numeros inuyiles)\n",
    "## que no es tan importante, pero lo tuvimos en cuenta para el orden\n",
    "##y nos generaria problemas"
   ]
  },
  {
   "cell_type": "markdown",
   "metadata": {},
   "source": [
    "Aca explicas Personas importante exlicar sus atributos  y los metodos pasar dia y contacto"
   ]
  },
  {
   "cell_type": "code",
   "execution_count": 4,
   "metadata": {},
   "outputs": [],
   "source": [
    "class Persona:\n",
    "    def __init__(self,id,probabilidad_contagio):\n",
    "        self._id = id #esto es por bonito nada más, para identificar a cada persona\n",
    "        self._probabilidad_contagio = probabilidad_contagio #probabilidad de contagio inicial de cada persona\n",
    "        self.estado = \"S\" # S: sano; A asintomatico; E enfermo ; M muerto ; R recuperado\n",
    "        self._dias_recuperacion = 0 #cuenta regresiva a recuperacion, se inicializan en 0 porque al principio no saben si tienen la enfermedad\n",
    "        self._dias_sintomas = 0 #cuenta regresiva a presentar sintomas\n",
    "    @property\n",
    "    def dias_recuperacion(self):  # manejan los cambios de estado (todas las propertys @)\n",
    "        return self._dias_recuperacion\n",
    "    @dias_recuperacion.setter\n",
    "    def dias_recuperacion(self, a):\n",
    "        if(a <= 0):\n",
    "            self._dias_recuperacion = 0\n",
    "            self.estado = \"R\"\n",
    "        self._dias_recuperacion = a\n",
    "    @property\n",
    "    def dias_sintomas(self):\n",
    "        return self._dias_sintomas\n",
    "    @dias_sintomas.setter\n",
    "    def dias_sintomas(self, a):    #dias hasta que empiezan a tener sintomas\n",
    "        if(a <= 0):\n",
    "            self._dias_sintomas = 0\n",
    "            self.estado = \"E\"                    #usamos clases por facilidad de modificar y clasificar estados, agregar todo tipo de informacion\n",
    "        self._dias_sintomas = a\n",
    "    def contacto(self,dado,dias_recuperacion,dias_sintomas):        #dado es para ver si se contagio o no, dado el numero del dado\n",
    "        if self.estado == \"S\" and dado <= self._probabilidad_contagio:\n",
    "            self.estado = \"A\"\n",
    "            self._dias_recuperacion = dias_recuperacion\n",
    "            self._dias_sintomas = min(dias_sintomas, dias_recuperacion)\n",
    "\n",
    "    def pasar_dia (self):\n",
    "        if self.estado in [\"A\",\"E\"]:                 #solo afecta si estas asintomatico o enfermo, sino estas sano o muerto, no afecta\n",
    "            if self.estado == \"A\":\n",
    "                self.dias_sintomas -= 1\n",
    "            self.dias_recuperacion -= 1\n",
    "\n",
    "    def __repr__(self):                     #los dos para que se vea bonito\n",
    "        return self.estado+str(self._id)\n",
    "    def __str__(self):\n",
    "        if self.estado == \"S\":\n",
    "            return f\"Soy {self._id}, estoy Sano, P contagio {self._probabilidad_contagio}\"\n",
    "        if self.estado == \"A\":\n",
    "            return f\"Soy {self._id}, estoy Asintomatico,sintomas:{self._dias_sintomas}, recuperacion {self._dias_recuperacion}\"\n",
    "        if self.estado == \"E\":\n",
    "            return f\"Soy {self._id}, estoy Enfermo, recuperacion {self._dias_recuperacion}\"\n",
    "        if self.estado == \"R\":\n",
    "            return f\"Soy {self._id}, estoy Recuperado \""
   ]
  },
  {
   "cell_type": "code",
   "execution_count": 5,
   "metadata": {},
   "outputs": [],
   "source": [
    "#Codigo_Graficos.py\n",
    "import matplotlib.pyplot as plt\n",
    "import numpy as np\n",
    "\n",
    "\n",
    "def graficar_infectados(diccionario):\n",
    "    print(diccionario)\n",
    "    cantidad_casos_totales = diccionario[\"it\"]   #it es infectados totales\n",
    "    cantidad_casos_recuperados = diccionario[\"r\"] #recueprados\n",
    "    cantidad_casos_actuales = diccionario[\"i\"] #infectados actuales\n",
    "    x = diccionario[\"t\"]   # dia\n",
    "    plt.plot(x, cantidad_casos_actuales,label= 'casos actuales')\n",
    "    plt.plot(x, cantidad_casos_recuperados, label= 'casos recuperados')\n",
    "    plt.plot(x, cantidad_casos_totales, label= 'casos totales')\n",
    "    plt.ylabel('Cantidad de infectados')\n",
    "    plt.xlabel('Días')\n",
    "    plt.title(\"Infectados en función del tiempo\")\n",
    "\n",
    "    plt.legend(loc=0)\n",
    "    plt.savefig(\"grafico_infectados.png\")\n",
    "    mostrar=plt.show()\n",
    "    return mostrar"
   ]
  },
  {
   "cell_type": "markdown",
   "metadata": {},
   "source": [
    "# Main script \n",
    "## Librerias \n",
    "explicacion de librerias"
   ]
  },
  {
   "cell_type": "code",
   "execution_count": 11,
   "metadata": {},
   "outputs": [],
   "source": [
    "from collections import defaultdict          #para ordenarse en los momentos de reunion\n",
    "from personas import Persona                #clase creada, mencionada en la celda anterior\n",
    "from simulation_parameters import simulation_parameters    #para llamar a la funcion simulatio_parameters\n",
    "from Codigo_Graficos import graficar_infectados            #para llamar a la funcion\n",
    "import os  #https://stackoverflow.com/questions/7165749/open-file-in-a-relative-location-in-python\n",
    "import re  #https://stackoverflow.com/questions/1249388/removing-all-non-numeric-characters-from-string-in-python\n",
    "import copy  #https://www.geeksforgeeks.org/copy-python-deep-copy-shallow-copy/\n",
    "import time  #medir los tiempos tiempos de simulacion, para medir la eficiencia"
   ]
  },
  {
   "cell_type": "markdown",
   "metadata": {},
   "source": [
    "explicación (1.1 Nuestro grafo..)"
   ]
  },
  {
   "cell_type": "code",
   "execution_count": 26,
   "metadata": {},
   "outputs": [
    {
     "data": {
      "text/plain": [
       "'/Instancias/reuniones_15000.txt'"
      ]
     },
     "execution_count": 26,
     "metadata": {},
     "output_type": "execute_result"
    }
   ],
   "source": [
    "#archivo main.py\n",
    "def crear_grafo ( personas, reuniones):\n",
    "    \"\"\" Crea un default diccionario donde las llaves son los dias y los elemntos son una\n",
    "    lista con los sets con los id de las personas que se juntaron \"\"\"\n",
    "    data_reuniones = defaultdict(list)\n",
    "    with open (reuniones) as file:    #abrir archivo\n",
    "        linea = file.__next__()       #nos da la unica linea del archivo\n",
    "    inter = linea.split(\"({\")         #lee la base de datos\n",
    "\n",
    "    for i in range(1,len(inter)):\n",
    "        parcial = set(map(int,inter[i].split(\"}\")[0].split(\", \")))    #usamos sets porque es mas eficiente la busqueda, facilita todo\n",
    "        dia = int(re.sub(\"[^0-9]\", \"\",inter[i].split(\"}\")[1] ))       \n",
    "        data_reuniones[dia].append(parcial)\n",
    "    #reuniones son los arcos\n",
    "    #cantidad de dia desde la infeccion que su estado de Enfermos con Sintomas\n",
    "    \"\"\" Crea un diccionario donde las llaves son las id y los elementos son instancias de la clase personas\"\"\"\n",
    "    data_personas = dict()    #no es defaultdict porque no tiene sentido preguntar por personas que no existen (gigo)\n",
    "    with open (personas) as file:   #fue un diccionario en vez de una lista, porque al principio estaba  desordenado y ahora no, pero ya esta hecho\n",
    "        linea = file.__next__().strip(\"{}\")\n",
    "    inter = linea.split(\", \")\n",
    "    for i in inter:\n",
    "        persona = i.split(\":\")\n",
    "        id = int(persona[0])\n",
    "        data_personas[id]= Persona(id,float(persona[1]))   #aca se guardo en cada nodo, una instancia para cada persona\n",
    "    return (data_personas,data_reuniones)\n",
    "\n",
    "notebook_path = os.path.abspath(\"Informe.ipynb\")\n",
    "\n",
    "\n",
    "\n",
    "\"\"\"\"CODIGO = 15000 #Cantidad de pacientes\n",
    "p0 = 33 #pacoente original\n",
    "delta_dias = 20 # Cantidad de dias\n",
    "personas = os.path.join(notebook_path, f\"/Instancias/personas_{CODIGO}.txt\")\n",
    "reuniones = os.path.join(notebook_path, f\"/Instancias/reuniones_{CODIGO}.txt\")\n",
    "grafo = crear_grafo(personas,reuniones)\"\"\"\n",
    "notebook_path = os.path.abspath(\"Notebook.ipynb\")\n",
    "notebook_path = os.path.join(notebook_path, f\"/Instancias/reuniones_{CODIGO}.txt\")\n",
    "notebook_path\n"
   ]
  },
  {
   "cell_type": "markdown",
   "metadata": {},
   "source": [
    "Aca explicas determinar contagiados importante notar la eficiencia de los sets (esta es la pregunta 1) (hacemos sets porque es muy eficientes los metodos union e intersection y es facil revisar si algo esta dentro del set)"
   ]
  },
  {
   "cell_type": "code",
   "execution_count": 12,
   "metadata": {},
   "outputs": [],
   "source": [
    "#archivo main.py\n",
    "def determinar_contagiados(grafo, p0 ,delta_dias):\n",
    "    #grafo es un grafo formado por la estructura de la funcion crear_grafo\n",
    "    #p0 es in integer con el indice del paciente 0\n",
    "    #dia_final número de días transcurridos\n",
    "    posibles = set()\n",
    "    posibles.add(p0)\n",
    "    data_reuniones = grafo[1]\n",
    "    for t in range (0,delta_dias+1):\n",
    "        if VERBOSO:                            #verboso es TRUE, pero es para ir imprimiendo a medida que avanza la simulacion, si fuera FALSE no imprimiría nada\n",
    "            print(f\"POSIBLES al principio del DIA {t}\",posibles)\n",
    "        for reunion in data_reuniones[t]:\n",
    "            if posibles.intersection(reunion):\n",
    "                if VERBOSO:\n",
    "                    print(F\"Reunion infectada DIA{t}:\",reunion, \"culpables:\",posibles.intersection(reunion))\n",
    "                posibles = posibles.union(reunion)\n",
    "    if VERBOSO:\n",
    "        print(F\"POSIBLES al final del dia {t}\",posibles)\n",
    "    return posibles\n",
    "\n",
    "#acá se debería correr la función"
   ]
  },
  {
   "cell_type": "code",
   "execution_count": 16,
   "metadata": {},
   "outputs": [],
   "source": [
    "def simular_contagio( grafo, p0, delta_dias, s):\n",
    "    #vectores = infectados actuales\n",
    "    data_personas = grafo[0]          #primer elemento del grafo (los nodos)\n",
    "    data_reuniones = grafo[1]          # segundo\n",
    "    \"Se simulan los parametros necesarios para cada persona\"\n",
    "    parametros = simulation_parameters(len(data_personas),delta_dias,s)\n",
    "    dias_recuperacion = parametros[0]\n",
    "    dias_sintomas = parametros[1]\n",
    "    contagios = parametros[2]\n",
    "    vectores = set()        #los que pueden contagiar\n",
    "    vectores.add(p0)\n",
    "    infectados = set()\n",
    "    infectados.add(p0)\n",
    "    recuperados = set()\n",
    "\n",
    "    data_personas[p0].contacto(0,dias_recuperacion[p0] , dias_sintomas[p0])  ##inicilizar el tiempo para p0 con sus contadores\n",
    "    datos_infectados = []\n",
    "    datos_recuperados = []\n",
    "    datos_it = []\n",
    "    dias = []\n",
    "\n",
    "    for t in range (0,delta_dias+1):\n",
    "        if VERBOSO:\n",
    "            print(f\"Comienza DIA {t}\")\n",
    "            print(\"Inf:\",len(infectados),\"-Vect:\",len(vectores),\"-Rec:\",len(recuperados))\n",
    "        datos_infectados.append(len(infectados))\n",
    "        datos_recuperados.append(len(recuperados))\n",
    "        datos_it.append(len(recuperados)+len(infectados))     #guardando los datos de cada dia para ponerlos en el grafico\n",
    "        dias.append(t)\n",
    "        for reunion in data_reuniones[t]:\n",
    "            culpables = vectores.intersection(reunion) #son los que infectaron la reunion, que tiene complejidad (buscar)\n",
    "            if culpables:                    #si es que existen culpables, que es lo mismo que decir len(culpables)>0            \n",
    "                for posible_contagiado in reunion - culpables:       # la resta es sacar los elementos iguales\n",
    "                    id = posible_contagiado\n",
    "                    if id not in recuperados and id not in infectados:   # si no esta en ninguno de los dos, esta sano\n",
    "                        data_personas[id].contacto(contagios[t][id],dias_recuperacion[id] , dias_sintomas[id])  # ese contagios da el numero del dado,\n",
    "       \n",
    "        ##########################################################\n",
    "        ##### VERDADERA FUENTE DE INEFICIENCIA DEL PROGRAMA ######\n",
    "        ##########################################################\n",
    "        # porque iteramos sobre todas las personas todos los dias O(m*n)   m:cantidad personas, n: cantidad de días\n",
    "        # si queremos mejorar la eficiencia del codigo, esto es lo que hay que mejorar\n",
    "        # podriamos llevar la cuenta de cambios de estado de las personas y asi tener el estado en cada momento del individuo, pero de esta forma,\n",
    "        # perdemos la moldeabilidad y la escalabilidad del codigo (por ahora podría tener más caracteristicas el codigo(relaciones mas complejas,\n",
    "        # mas enfermedades, muertes, entre otros factores) gracias a que los tratamos como objeto y no como una sola variable)\n",
    "        infectados = set()\n",
    "        vectores = set()\n",
    "        recuperados = set()\n",
    "        for i in range(0,len(data_personas)):                   \n",
    "            data_personas[i].pasar_dia()\n",
    "            if data_personas[i].estado == \"A\":\n",
    "                vectores.add(i)\n",
    "                infectados.add(i)\n",
    "            elif data_personas[i].estado == \"E\":\n",
    "                infectados.add(i)\n",
    "            elif data_personas[i].estado == \"R\":\n",
    "                recuperados.add(i)\n",
    "            elif data_personas[i].estado == \"S\":\n",
    "                pass\n",
    "            else:\n",
    "                print(\"ERROR ESTADO ANOMALO\")\n",
    "    return infectados,recuperados,{\"t\":dias,\n",
    "            \"i\":datos_infectados,\n",
    "            \"it\":datos_it,\n",
    "            \"r\":datos_recuperados}\n",
    "\n",
    "#acá se debería correr la función"
   ]
  },
  {
   "cell_type": "code",
   "execution_count": 15,
   "metadata": {},
   "outputs": [],
   "source": [
    "def probabilidad_contagio(grafo,p0,delta_dias):\n",
    "    Cantidad = len(grafo[0])       #se obtiene la cantidad de personas\n",
    "    SIMULACIONES = 1000\n",
    "    conteos = {i: 0 for i in range(Cantidad)}      #esto crea un diccionario con las llaves siendo el id de la persona, y con todos los elementos en 0\n",
    "    tiempo_simulaciones = 0                        #crea el tiempo para las simulaciones\n",
    "    for s in range (0,SIMULACIONES):               #s es la semilla para poder hacer la cantidad de simulaciones requerida (1000), para tener diferentes semillas\n",
    "        copia_grafo = copy.deepcopy(grafo)         # en vez de crear grafos para cada simulacion, los copiamos y los vamos sobreescribiendo\n",
    "        print(\"-\"*45,f\"SIMUACION SEMILLA: {s}\",\"-\"*45)\n",
    "        t_inicio=time.time()\n",
    "        infectados = simular_contagio(copia_grafo, p0, delta_dias,s)[0]   ##aca da la complejidad del algoritmo que es O(|s|*|Cantidad|)  (cada simulacion se demora lac antidad de dias asi que son lo mismo)\n",
    "        tiempo_simulacion = time.time()-t_inicio\n",
    "        tiempo_simulaciones += tiempo_simulacion        #autoexplicativo\n",
    "        print(F\"Tiempo de simulacion{tiempo_simulacion}\")\n",
    "        for i in range(Cantidad):\n",
    "            if i in infectados:\n",
    "                conteos[i] += 1       #en este for, se va actualizando el valor del diccionario, que nos dice cuantas veces se enfermo cada weon\n",
    "    for i in range (0, Cantidad):\n",
    "        conteos[i]= float(conteos[i])/float(SIMULACIONES) #ya esta hecha la division\n",
    "        if conteos[i] and VERBOSO:\n",
    "            print(f\"Pasinte{i}: probabilidad: {conteos[i]}\")\n",
    "    print(f\"Con {Cantidad} personas y {delta_dias} dias se demora {tiempo_simulaciones}s en hacer {SIMULACIONES} simulaciones\\nPromedio de simulacion{tiempo_simulaciones/SIMULACIONES} s\")\n",
    "    return conteos\n"
   ]
  },
  {
   "cell_type": "markdown",
   "metadata": {},
   "source": [
    "cada funcion debería ser ejecutada con los parámetros dichos en el enunciado"
   ]
  },
  {
   "cell_type": "markdown",
   "metadata": {},
   "source": [
    "Para analizar cualitativamente, tengo que especificar la instancia y la semilla, y comentar la wea "
   ]
  },
  {
   "cell_type": "code",
   "execution_count": 7,
   "metadata": {},
   "outputs": [],
   "source": [
    "\n",
    "\n"
   ]
  },
  {
   "cell_type": "code",
   "execution_count": null,
   "metadata": {},
   "outputs": [],
   "source": []
  }
 ],
 "metadata": {
  "kernelspec": {
   "display_name": "Python 3",
   "language": "python",
   "name": "python3"
  },
  "language_info": {
   "codemirror_mode": {
    "name": "ipython",
    "version": 3
   },
   "file_extension": ".py",
   "mimetype": "text/x-python",
   "name": "python",
   "nbconvert_exporter": "python",
   "pygments_lexer": "ipython3",
   "version": "3.7.4"
  }
 },
 "nbformat": 4,
 "nbformat_minor": 4
}
