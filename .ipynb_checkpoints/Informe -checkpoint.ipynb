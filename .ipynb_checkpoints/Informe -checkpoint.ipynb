{
 "cells": [
  {
   "cell_type": "markdown",
   "metadata": {},
   "source": [
    "# Tarea 1 Grupo"
   ]
  },
  {
   "cell_type": "code",
   "execution_count": null,
   "metadata": {},
   "outputs": [],
   "source": []
  },
  {
   "cell_type": "code",
   "execution_count": null,
   "metadata": {},
   "outputs": [],
   "source": []
  },
  {
   "cell_type": "markdown",
   "metadata": {},
   "source": [
    "Aca explicas Personas importante exlicar sus atributos  y los metodos pasar dia y contacto"
   ]
  },
  {
   "cell_type": "code",
   "execution_count": 2,
   "metadata": {},
   "outputs": [],
   "source": [
    "class Persona:\n",
    "    def __init__(self,id,probabilidad_contagio):\n",
    "        self._id = id\n",
    "        self._probabilidad_contagio = probabilidad_contagio\n",
    "        self.estado = \"S\" # S: sano; A asintomatico; E enfermo ; M muerto ; R recuperado\n",
    "        self._dias_recuperacion = 0#cuenta regresiva a recuperacion\n",
    "        self._dias_sintomas = 0 #cuenta regresiva a presentar sintomas\n",
    "    @property\n",
    "    def dias_recuperacion(self):\n",
    "        return self._dias_recuperacion\n",
    "    @dias_recuperacion.setter\n",
    "    def dias_recuperacion(self, a):\n",
    "        if(a <= 0):\n",
    "            self._dias_recuperacion = 0\n",
    "            self.estado = \"R\"\n",
    "        self._dias_recuperacion = a\n",
    "    @property\n",
    "    def dias_sintomas(self):\n",
    "        return self._dias_sintomas\n",
    "    @dias_sintomas.setter\n",
    "    def dias_sintomas(self, a):\n",
    "        if(a <= 0):\n",
    "            self._dias_sintomas = 0\n",
    "            self.estado = \"E\"\n",
    "        self._dias_sintomas = a\n",
    "    def contacto(self,dado,dias_recuperacion,dias_sintomas):\n",
    "        if self.estado == \"S\" and dado <= self._probabilidad_contagio:\n",
    "            self.estado = \"A\"\n",
    "            self._dias_recuperacion = dias_recuperacion\n",
    "            self._dias_sintomas = min(dias_sintomas, dias_recuperacion)\n",
    "\n",
    "    def pasar_dia (self):\n",
    "        if self.estado in [\"A\",\"E\"]:\n",
    "            if self.estado == \"A\":\n",
    "                self.dias_sintomas -= 1\n",
    "            self.dias_recuperacion -= 1\n",
    "\n",
    "    def __repr__(self):\n",
    "        return self.estado+str(self._id)\n",
    "    def __str__(self):\n",
    "        if self.estado == \"S\":\n",
    "            return f\"Soy {self._id}, estoy Sano, P contagio {self._probabilidad_contagio}\"\n",
    "        if self.estado == \"A\":\n",
    "            return f\"Soy {self._id}, estoy Asintomatico,sintomas:{self._dias_sintomas}, recuperacion {self._dias_recuperacion}\"\n",
    "        if self.estado == \"E\":\n",
    "            return f\"Soy {self._id}, estoy Enfermo, recuperacion {self._dias_recuperacion}\"\n",
    "        if self.estado == \"R\":\n",
    "            return f\"Soy {self._id}, estoy Recuperado \""
   ]
  },
  {
   "cell_type": "markdown",
   "metadata": {},
   "source": [
    "# Librerias \n",
    "explicacion de librerias"
   ]
  },
  {
   "cell_type": "code",
   "execution_count": 9,
   "metadata": {},
   "outputs": [],
   "source": [
    "from collections import defaultdict\n",
    "from personas import Persona\n",
    "from simulation_parameters import simulation_parameters\n",
    "from Codigo_Graficos import graficar_infectados\n",
    "import os #https://stackoverflow.com/questions/7165749/open-file-in-a-relative-location-in-python\n",
    "import re # https://stackoverflow.com/questions/1249388/removing-all-non-numeric-characters-from-string-in-python\n",
    "import copy # copy deep copy\n",
    "import time"
   ]
  },
  {
   "cell_type": "markdown",
   "metadata": {},
   "source": [
    "explicacion"
   ]
  },
  {
   "cell_type": "code",
   "execution_count": 6,
   "metadata": {},
   "outputs": [],
   "source": [
    "#archivo main.py\n",
    "def crear_grafo ( personas, reuniones):\n",
    "    \"\"\" Crea un default diccionario donde las llaves son los dias y los elemntos son una\n",
    "    lista con los sets con los id de las personas que se juntaron \"\"\"\n",
    "    data_reuniones = defaultdict(list)\n",
    "    with open (reuniones) as file:\n",
    "        linea = file.__next__()\n",
    "    inter = linea.split(\"({\")\n",
    "\n",
    "    for i in range(1,len(inter)):\n",
    "        parcial = set(map(int,inter[i].split(\"}\")[0].split(\", \")))\n",
    "        dia = int(re.sub(\"[^0-9]\", \"\",inter[i].split(\"}\")[1] ))\n",
    "        data_reuniones[dia].append(parcial)\n",
    "    #dia es el dia mas alto\n",
    "\n",
    "    #cantidad de dia desde la infeccion que su estado de Enfermos con Sintomas\n",
    "    \"\"\" Crea un diccionario donde se almacenan las persoans\"\"\"\n",
    "    data_personas = dict()\n",
    "    with open (personas) as file:\n",
    "        linea = file.__next__().strip(\"{}\")\n",
    "    inter = linea.split(\", \")\n",
    "    for i in inter:\n",
    "        persona = i.split(\":\")\n",
    "        id = int(persona[0])\n",
    "        data_personas[id]= Persona(id,float(persona[1]))\n",
    "    return (data_personas,data_reuniones)\n"
   ]
  },
  {
   "cell_type": "markdown",
   "metadata": {},
   "source": [
    "Aca explicas determinar contagiados importante notar la eficiencia de los sets "
   ]
  },
  {
   "cell_type": "code",
   "execution_count": 7,
   "metadata": {},
   "outputs": [],
   "source": [
    "#archivo main.py\n",
    "def determinar_contagiados(grafo, p0 ,delta_dias):\n",
    "    #gafo es in grafo formado por la estructura de la funcion crear_grafo\n",
    "    #p0 es in integer con el indice del paciente 0\n",
    "    #dia_final número de días transcurridos\n",
    "    posibles = set()\n",
    "    posibles.add(p0)\n",
    "    data_reuniones = grafo[1]\n",
    "    for t in range (0,delta_dias+1):\n",
    "        if VERBOSO:\n",
    "            print(f\"POSIBLES al principio del DIA {t}\",posibles)\n",
    "        for reunion in data_reuniones[t]:\n",
    "            if posibles.intersection(reunion):\n",
    "                if VERBOSO:\n",
    "                    print(F\"Reunion infectada DIA{t}:\",reunion, \"culpables:\",posibles.intersection(reunion))\n",
    "                posibles = posibles.union(reunion)\n",
    "    if VERBOSO:\n",
    "        print(F\"POSIBLES al final del dia {t}\",posibles)\n",
    "    return posibles"
   ]
  },
  {
   "cell_type": "markdown",
   "metadata": {},
   "source": [
    "Aca puedes "
   ]
  },
  {
   "cell_type": "code",
   "execution_count": 8,
   "metadata": {},
   "outputs": [],
   "source": [
    "#Codigo_Graficos.py\n",
    "import matplotlib.pyplot as plt\n",
    "import numpy as np\n",
    "\n",
    "\n",
    "def graficar_infectados(diccionario):\n",
    "    print(diccionario)\n",
    "    cantidad_casos_totales = diccionario[\"it\"]\n",
    "    cantidad_casos_recuperados = diccionario[\"r\"]\n",
    "    cantidad_casos_actuales = diccionario[\"i\"]\n",
    "    x = diccionario[\"t\"]\n",
    "    plt.plot(x, cantidad_casos_actuales,label= 'casos actuales')\n",
    "    plt.plot(x, cantidad_casos_recuperados, label= 'casos recuperados')\n",
    "    plt.plot(x, cantidad_casos_totales, label= 'casos totales')\n",
    "    plt.ylabel('Cantidad de infectados')\n",
    "    plt.xlabel('Días')\n",
    "    plt.title(\"Infectados en función del tiempo\")\n",
    "\n",
    "    plt.legend(loc=0)\n",
    "    plt.savefig(\"grafico.png\")\n",
    "    mostrar=plt.show()\n",
    "    return mostrar"
   ]
  },
  {
   "cell_type": "code",
   "execution_count": null,
   "metadata": {},
   "outputs": [],
   "source": []
  }
 ],
 "metadata": {
  "kernelspec": {
   "display_name": "Python 3",
   "language": "python",
   "name": "python3"
  },
  "language_info": {
   "codemirror_mode": {
    "name": "ipython",
    "version": 3
   },
   "file_extension": ".py",
   "mimetype": "text/x-python",
   "name": "python",
   "nbconvert_exporter": "python",
   "pygments_lexer": "ipython3",
   "version": "3.7.4"
  }
 },
 "nbformat": 4,
 "nbformat_minor": 2
}
