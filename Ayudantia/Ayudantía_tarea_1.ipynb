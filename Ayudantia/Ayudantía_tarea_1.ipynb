{
 "cells": [
  {
   "cell_type": "markdown",
   "metadata": {},
   "source": [
    "# Ayudantía computacional tarea 1 Flujo en Redes - 2020-1\n",
    "### Ayudante: Pablo Seisdedos: pcseisdedos@uc.cl"
   ]
  },
  {
   "cell_type": "markdown",
   "metadata": {},
   "source": [
    "### Contenidos:\n",
    "* Instalación de librerías\n",
    "* Simulación \n",
    "* Lectura de archivos\n",
    "* Estructuras de datos built-in en python\n",
    "* Modelar redes con POO\n",
    "* Graficar"
   ]
  },
  {
   "cell_type": "markdown",
   "metadata": {},
   "source": [
    "### Instalación de librerías"
   ]
  },
  {
   "cell_type": "markdown",
   "metadata": {},
   "source": [
    "La ventaja de python es que existen muchas librerías externas que permiten ahorrar bastante código a la hora de programar, sin embargo, la mayoría de estas librerías no vienen por defecto en python y por lo tanto deben ser instaladas, para esto se usa la herramienta [**pip** ](https://pip.pypa.io/en/stable/). Para esto deben agregar pip a las variables de entorno para que sea reconocido como comando."
   ]
  },
  {
   "cell_type": "markdown",
   "metadata": {},
   "source": [
    "Luego para poder instalar librerías deben abrir la cmd (o terminal) y ejecutar el comando `pip install nombre_libreria`. Existen distintas versiones de python y en algunas cambia el comando para instalar, para verificar la versión de python que tienen pueden ejecutar en la cmd `python --version`, a continuación se encuentran algunas opciones de instalación:\n",
    "* `pip install`\n",
    "* `python -m pip install`\n",
    "* `python3 -m pip install`\n",
    "* `py -m pip install`\n",
    "* `pip3 install`\n",
    "* `pip36 install`\n",
    "\n",
    "Si quieren instalar librerías en jupyter deben anteponer `!` antes del comando pip, por ejemplo:\n",
    "`!pip install matplotlib`"
   ]
  },
  {
   "cell_type": "markdown",
   "metadata": {},
   "source": [
    "### Simulación en python"
   ]
  },
  {
   "cell_type": "markdown",
   "metadata": {},
   "source": [
    "Las simulaciones corresponden a modelos que representan la realidad y nos sirven para analizar el comportamiento de un sistema sin la necesidad de implementarlo realmente. Esto es útil dado que en algunos casos implementar el sistema en la realidad es muy costoso o tiene grandes riesgos, existen modelos simples que se pueden modelar de forma analítica, pero hay otros mas complejos que requieren simulaciones computacionales para poder entenderlos y ver su funcionamiento bajo distitnas situaciones.\n",
    "\n",
    "Existen dos formas principales de simular en Python:\n",
    "1. Simulación sincrona: En este tipo de simulación se **itera por día**.\n",
    "1. Simulación basada en eventos discretos (DES): En este tipo de simulación se **itera por eventos**."
   ]
  },
  {
   "cell_type": "markdown",
   "metadata": {},
   "source": [
    "**Simulación sincrona**\n",
    "\n",
    "```python\n",
    "Mientras el tiempo simulación no termine\n",
    "    aumentar tiempo en una unidad\n",
    "    si ocurren eventos en este intervalo de tiempo: \n",
    "        simular los eventos\n",
    "```        \n",
    "   \n",
    "        \n",
    "**Simulación DES**\n",
    "\n",
    "\n",
    "```python\n",
    "Mientras la lista de eventos no esté vacía y el tiempo de simulación no termine\n",
    "    quitar el primer elemento de la lista de eventos\n",
    "    avanzar el tiempo de simulación al tiempo de este evento\n",
    "    simular el evento\n",
    "```\n"
   ]
  },
  {
   "cell_type": "code",
   "execution_count": 1,
   "metadata": {},
   "outputs": [],
   "source": [
    "import time\n",
    "from collections import deque\n",
    "from random import choice, randrange, random, expovariate, randint, uniform, seed"
   ]
  },
  {
   "cell_type": "code",
   "execution_count": 2,
   "metadata": {},
   "outputs": [],
   "source": [
    "# Author: Karim Pichara y Christian Pieringer\n",
    "# Libro: Advanced computer programming in python\n",
    "# link: https://advancedpythonprogramming.github.io/\n",
    "# Cap 8\n",
    "\n",
    "\n",
    "class Vehiculo:\n",
    "    # Esta clase modela los vehiculos que llegan al taller\n",
    "    \n",
    "    def __init__(self, vehiculos):\n",
    "        # Cuando se crea un nuevo vehículo se escoge aleatoriamente el tipo de vehículo\n",
    "        # entrante y su tiempo promedio de atención\n",
    "        self.tipo_vehiculo = choice(list(vehiculos))\n",
    "        self._tiempo_revision = round(expovariate(vehiculos[self.tipo_vehiculo]) + 0.5)\n",
    "    \n",
    "    @property\n",
    "    def tiempo_revision(self):\n",
    "        return self._tiempo_revision\n",
    "    \n",
    "    @tiempo_revision.setter\n",
    "    def tiempo_revision(self, valor):\n",
    "        self._tiempo_revision = valor\n",
    "        \n",
    "        \n",
    "class Taller:\n",
    "    # Esta clase modela la linea de revision en el taller\n",
    "    def __init__(self):\n",
    "        self.tarea_actual = None\n",
    "        self.tiempo_revision = 0\n",
    "\n",
    "    @property\n",
    "    def ocupado(self):\n",
    "        return self.tarea_actual != None\n",
    "\n",
    "    def proximo_auto(self, vehiculo):\n",
    "        self.tarea_actual = vehiculo\n",
    "        self.tiempo_revision = vehiculo.tiempo_revision\n",
    "        time.sleep(0.2)\n",
    "        print('[PLANTA] Atendiendo {0} con un tiempo promedio de {1} min'.format( \\\n",
    "                self.tarea_actual.tipo_vehiculo, self.tiempo_revision))\n",
    "        \n",
    "    def tick(self):\n",
    "        if self.tarea_actual != None:\n",
    "            self.tiempo_revision -= 1\n",
    "            if self.tiempo_revision <= 0:\n",
    "                time.sleep(0.2)\n",
    "                print('[PLANTA] termina revision de {}'.format(self.tarea_actual.tipo_vehiculo))\n",
    "                self.tarea_actual = None\n",
    "\n",
    "        \n",
    "def llega_nuevo_auto():\n",
    "    # Esta funcion modela si llega o no un auto nuevo a la cola. \n",
    "    # Se muestrea de una distribución de probabilidad uniforme. El método retorna\n",
    "    # True si el valor entregado por la función random es mayor a un valor dado.\n",
    "    return random() >= 0.8\n",
    "\n",
    "\n",
    "def revision_tecnica(max_tiempo, vehiculos):\n",
    "    # Esta funcion maneja el proceso o servicio de revision en el taller\n",
    "   \n",
    "    planta_revision = Taller() # se crea una planta de revisión\n",
    "    cola_revision = deque()  # cola de revision vacia\n",
    "    tiempo_espera = [] # tiempos de espera\n",
    "\n",
    "    # Se define el ciclo de simulación al máximo tiempo en minutos difinido, \n",
    "    # donde en cada instante t se evelúa si llega un nuevo vehículo\n",
    "    # a la cola de revisión\n",
    "\n",
    "    for t in range(max_tiempo):     \n",
    "        if llega_nuevo_auto():\n",
    "            cola_revision.append(Vehiculo(vehiculos))\n",
    "            time.sleep(0.2)\n",
    "            print('[COLA] llega {} en tiempo de simulacion t={} min. Hay {} vehiculos en la cola.'.format(\n",
    "                    cola_revision[-1].tipo_vehiculo, t, len(cola_revision)))\n",
    "                 \n",
    "        if (not planta_revision.ocupado) and (len(cola_revision) > 0):\n",
    "            \n",
    "            # se extrae el proximo auto en la cola de atención       \n",
    "            ac_auto = cola_revision.popleft()\n",
    "            tiempo_espera.append(ac_auto.tiempo_revision)\n",
    "            planta_revision.proximo_auto(ac_auto)\n",
    "        \n",
    "        # descuenta un tick de tiempo al auto en espera\n",
    "        planta_revision.tick()\n",
    "\n",
    "    tiempo_promedio = sum(tiempo_espera) / len(tiempo_espera)\n",
    "    tiempo_total = sum(tiempo_espera)\n",
    "\n",
    "    print('\\nEstadísticas:')\n",
    "    print('Tiempo promedio de espera {0:6.2f} min.'.format(tiempo_promedio))\n",
    "    print('Tiempo total de atención de la planta fue de {0:6.2f} min'.format(sum(tiempo_espera)))\n",
    "    print('Total de vehículos atendidos: {0}'.format(len(tiempo_espera)))"
   ]
  },
  {
   "cell_type": "markdown",
   "metadata": {},
   "source": [
    "**Ejecutamos la simulación**"
   ]
  },
  {
   "cell_type": "code",
   "execution_count": 3,
   "metadata": {},
   "outputs": [
    {
     "name": "stdout",
     "output_type": "stream",
     "text": [
      "[COLA] llega moto en tiempo de simulacion t=4 min. Hay 1 vehiculos en la cola.\n",
      "[PLANTA] Atendiendo moto con un tiempo promedio de 15 min\n",
      "[COLA] llega camioneta en tiempo de simulacion t=6 min. Hay 1 vehiculos en la cola.\n",
      "[COLA] llega camioneta en tiempo de simulacion t=7 min. Hay 2 vehiculos en la cola.\n",
      "[COLA] llega camioneta en tiempo de simulacion t=10 min. Hay 3 vehiculos en la cola.\n",
      "[PLANTA] termina revision de moto\n",
      "[PLANTA] Atendiendo camioneta con un tiempo promedio de 2 min\n",
      "[PLANTA] termina revision de camioneta\n",
      "[COLA] llega auto en tiempo de simulacion t=21 min. Hay 3 vehiculos en la cola.\n",
      "[PLANTA] Atendiendo camioneta con un tiempo promedio de 9 min\n",
      "[COLA] llega moto en tiempo de simulacion t=22 min. Hay 3 vehiculos en la cola.\n",
      "[COLA] llega moto en tiempo de simulacion t=29 min. Hay 4 vehiculos en la cola.\n",
      "[PLANTA] termina revision de camioneta\n",
      "[PLANTA] Atendiendo camioneta con un tiempo promedio de 2 min\n",
      "[COLA] llega auto en tiempo de simulacion t=31 min. Hay 4 vehiculos en la cola.\n",
      "[PLANTA] termina revision de camioneta\n",
      "[PLANTA] Atendiendo auto con un tiempo promedio de 35 min\n",
      "[COLA] llega moto en tiempo de simulacion t=41 min. Hay 4 vehiculos en la cola.\n",
      "[COLA] llega moto en tiempo de simulacion t=44 min. Hay 5 vehiculos en la cola.\n",
      "[COLA] llega moto en tiempo de simulacion t=45 min. Hay 6 vehiculos en la cola.\n",
      "[COLA] llega camioneta en tiempo de simulacion t=59 min. Hay 7 vehiculos en la cola.\n",
      "[PLANTA] termina revision de auto\n",
      "[PLANTA] Atendiendo moto con un tiempo promedio de 11 min\n",
      "[COLA] llega moto en tiempo de simulacion t=68 min. Hay 7 vehiculos en la cola.\n",
      "[COLA] llega camioneta en tiempo de simulacion t=69 min. Hay 8 vehiculos en la cola.\n",
      "[COLA] llega moto en tiempo de simulacion t=70 min. Hay 9 vehiculos en la cola.\n",
      "[COLA] llega moto en tiempo de simulacion t=73 min. Hay 10 vehiculos en la cola.\n",
      "[PLANTA] termina revision de moto\n",
      "[PLANTA] Atendiendo moto con un tiempo promedio de 2 min\n",
      "[COLA] llega auto en tiempo de simulacion t=79 min. Hay 10 vehiculos en la cola.\n",
      "[PLANTA] termina revision de moto\n",
      "\n",
      "Estadísticas:\n",
      "Tiempo promedio de espera  10.86 min.\n",
      "Tiempo total de atención de la planta fue de  76.00 min\n",
      "Total de vehículos atendidos: 7\n"
     ]
    }
   ],
   "source": [
    "if __name__ == '__main__':\n",
    "    # define los tipos de vehículos y su tiempo de atención promedio\n",
    "    vehiculos = {'moto': 1.0/8, 'auto': 1.0/15, 'camioneta': 1.0/20} \n",
    "    maximo_tiempo = 80\n",
    "    revision_tecnica(maximo_tiempo, vehiculos)"
   ]
  },
  {
   "cell_type": "code",
   "execution_count": 4,
   "metadata": {},
   "outputs": [],
   "source": [
    "from collections import deque\n",
    "from random import expovariate, randint, uniform, seed\n",
    "from datetime import datetime, timedelta\n",
    "import time"
   ]
  },
  {
   "cell_type": "code",
   "execution_count": 5,
   "metadata": {},
   "outputs": [],
   "source": [
    "# Author: Karim Pichara y Christian Pieringer\n",
    "# Libro: Advanced computer programming in python\n",
    "# link: https://advancedpythonprogramming.github.io/\n",
    "# Cap 8\n",
    "\n",
    "class Vehiculo:\n",
    "    # Esta clase modela los autos que llegan a la revision\n",
    "    def __init__(self, tiempo_llegada=0):\n",
    "        self.tipo_vehiculo = choice(['moto', 'camioneta', 'auto'])\n",
    "        self.tiempo_llegada = tiempo_llegada\n",
    "   \n",
    "    def __repr__(self):\n",
    "        return 'Tipo vehiculo: {0}'.format(self.tipo_vehiculo)\n",
    "    \n",
    "class Taller:\n",
    "    \n",
    "    def __init__(self, tipos):\n",
    "        self.tarea_actual = None\n",
    "        self.tiempo_revision = 0\n",
    "        self.tipos = tipos\n",
    "    \n",
    "    def pasar_vehiculo(self, vehiculo):\n",
    "        self.tarea_actual = vehiculo\n",
    "        # Creamos un tiempo de atención aleatorio\n",
    "        self.tiempo_revision = round(expovariate(self.tipos[vehiculo.tipo_vehiculo]) + 0.5)  \n",
    "\n",
    "    @property    \n",
    "    def ocupado(self):\n",
    "        return self.tarea_actual != None\n",
    "    \n",
    "    \n",
    "class Simulacion:\n",
    "    # Esta clase implemeta la simulación. También se puede usar una función como en el caso anterior.\n",
    "    # Se inicializarn todas las variables utilizadas en la simulación.\n",
    "\n",
    "    def __init__(self, tiempo_maximo, tasa_llegada, tipos):\n",
    "        self.tiempo_maximo_sim = tiempo_maximo\n",
    "        self.tasa_llegada = tasa_llegada\n",
    "        self.tiempo_simulacion = 0\n",
    "        self.tiempo_proximo_auto = 0\n",
    "        self.tiempo_atencion = 0\n",
    "        self.tiempo_espera = 0\n",
    "        self.planta = Taller(tipos)\n",
    "        self.cola_espera = deque()\n",
    "        self.vehiculos_atendidos = 0\n",
    "    \n",
    "    def proximo_auto(self, tasa_llegada):\n",
    "        # un auto llega cada 5 minutos\n",
    "        self.tiempo_proximo_auto = self.tiempo_simulacion + round(expovariate(tasa_llegada) + 0.5) \n",
    "   \n",
    "    def run(self):\n",
    "        # Este método ejecuta la simulación de la revisión y la cola de espera\n",
    "        # se estima aleatoreamente la llegada de un auto a la linea de revisión\n",
    "        self.proximo_auto(self.tasa_llegada)\n",
    "\n",
    "        while self.tiempo_simulacion < self.tiempo_maximo_sim:\n",
    "            \n",
    "            # Primero revisamos el evento actual. Si la planta está vacía o \n",
    "            # si la planta está ocupada, y no ha salido algún vehículo de la planta, \n",
    "            # el tiempo de simulación siempre será el tiempo de llegada de los vehículos. \n",
    "            # Cuando sale el vehículo, el tiempo de simulación debe ser el tiempo transcurrido\n",
    "            # hasta esta revisión.\n",
    "\n",
    "            if (self.planta.ocupado and self.tiempo_proximo_auto < self.tiempo_atencion) or (not self.planta.ocupado):\n",
    "                self.tiempo_simulacion = self.tiempo_proximo_auto\n",
    "                \n",
    "            else:\n",
    "                self.tiempo_simulacion = self.tiempo_atencion\n",
    "                \n",
    "            time.sleep(0.2)\n",
    "            print('[SIMULACION] tiempo: {0} min'.format(self.tiempo_simulacion))\n",
    "            \n",
    "            if self.tiempo_simulacion == self.tiempo_proximo_auto:\n",
    "                # Mientras se esté revisando un vehículo en la planta, \n",
    "                # el resto de los vehículos se sigue acumulando en la cola. Por cada\n",
    "                # llegada se genera el próximo evento mediante el método próximo auto\n",
    "\n",
    "                self.cola_espera.append(Vehiculo(self.tiempo_simulacion))                \n",
    "                self.proximo_auto(self.tasa_llegada)\n",
    "                time.sleep(0.2)\n",
    "                print('[COLA] Llega {0} en tiempo simulación: {1} min.'.format(\n",
    "                        self.cola_espera[-1].tipo_vehiculo, self.tiempo_simulacion))\n",
    "                \n",
    "                if (not self.planta.ocupado) and (len(self.cola_espera) > 0):\n",
    "                    # Si la planta está desocupada y queden elementos en la cola de espera, \n",
    "                    # el siguiente vehículo se retira de la cola y entra a la planta. \n",
    "                    # Al entrar se le asigna aleatoriamente el tiempo de atención y se genera \n",
    "                    # el instante estimado de término de la revisión\n",
    "\n",
    "                    proximo_vehiculo = self.cola_espera.popleft()  # sacamos un auto en la cola de atencion\n",
    "                    self.planta.pasar_vehiculo(proximo_vehiculo)   # y lo pasamos a la planta\n",
    "                    \n",
    "                    # nuevo tiempo de revisión\n",
    "                    self.tiempo_atencion = self.tiempo_simulacion + self.planta.tiempo_revision   \n",
    "                    time.sleep(0.2)\n",
    "                    print('[PLANTA] Entra {0} con un tiempo de atencion esperado de {1} min.'.\\\n",
    "                          format(self.planta.tarea_actual.tipo_vehiculo, self.planta.tiempo_revision))\n",
    "\n",
    "            else:\n",
    "                \n",
    "                # Cuando el tiempo de simulación es igual al tiempo transcurrido\n",
    "                # durante la revisión se retira el vehículo del taller y el siguiente\n",
    "                # vehículo puede entrar a la atención\n",
    "                time.sleep(0.2)\n",
    "                print('[PLANTA] Sale: {} a los {} min.'.format(self.planta.tarea_actual.tipo_vehiculo, self.tiempo_simulacion))\n",
    "                \n",
    "                self.tiempo_espera += self.tiempo_simulacion - self.planta.tarea_actual.tiempo_llegada\n",
    "                self.planta.tarea_actual = None\n",
    "                self.vehiculos_atendidos += 1\n",
    "                \n",
    "\n",
    "        print('\\nEstadísticas:')\n",
    "        print('Tiempo total atención {0} min.'.format(self.tiempo_atencion))\n",
    "        print('Total de vehículos atendidos: {0}'.format(self.vehiculos_atendidos))\n",
    "        print('Tiempo promedio de espera {0} min.'.format(round(self.tiempo_espera/self.vehiculos_atendidos)))"
   ]
  },
  {
   "cell_type": "markdown",
   "metadata": {},
   "source": [
    "**Ejecutamos la simulación**"
   ]
  },
  {
   "cell_type": "code",
   "execution_count": 6,
   "metadata": {},
   "outputs": [
    {
     "name": "stdout",
     "output_type": "stream",
     "text": [
      "[SIMULACION] tiempo: 3 min\n",
      "[COLA] Llega moto en tiempo simulación: 3 min.\n",
      "[PLANTA] Entra moto con un tiempo de atencion esperado de 15 min.\n",
      "[SIMULACION] tiempo: 10 min\n",
      "[COLA] Llega auto en tiempo simulación: 10 min.\n",
      "[SIMULACION] tiempo: 13 min\n",
      "[COLA] Llega auto en tiempo simulación: 13 min.\n",
      "[SIMULACION] tiempo: 18 min\n",
      "[PLANTA] Sale: moto a los 18 min.\n",
      "[SIMULACION] tiempo: 19 min\n",
      "[COLA] Llega auto en tiempo simulación: 19 min.\n",
      "[PLANTA] Entra auto con un tiempo de atencion esperado de 1 min.\n",
      "[SIMULACION] tiempo: 20 min\n",
      "[PLANTA] Sale: auto a los 20 min.\n",
      "[SIMULACION] tiempo: 27 min\n",
      "[COLA] Llega moto en tiempo simulación: 27 min.\n",
      "[PLANTA] Entra auto con un tiempo de atencion esperado de 21 min.\n",
      "[SIMULACION] tiempo: 28 min\n",
      "[COLA] Llega auto en tiempo simulación: 28 min.\n",
      "[SIMULACION] tiempo: 31 min\n",
      "[COLA] Llega auto en tiempo simulación: 31 min.\n",
      "[SIMULACION] tiempo: 36 min\n",
      "[COLA] Llega auto en tiempo simulación: 36 min.\n",
      "[SIMULACION] tiempo: 40 min\n",
      "[COLA] Llega camioneta en tiempo simulación: 40 min.\n",
      "[SIMULACION] tiempo: 48 min\n",
      "[PLANTA] Sale: auto a los 48 min.\n",
      "[SIMULACION] tiempo: 62 min\n",
      "[COLA] Llega auto en tiempo simulación: 62 min.\n",
      "[PLANTA] Entra auto con un tiempo de atencion esperado de 13 min.\n",
      "\n",
      "Estadísticas:\n",
      "Tiempo total atención 75 min.\n",
      "Total de vehículos atendidos: 3\n",
      "Tiempo promedio de espera 20 min.\n"
     ]
    }
   ],
   "source": [
    "if __name__ == '__main__':\n",
    "    # En este ejemplo inicializamos la simulación con 50 min como tiempo máximo.\n",
    "    # Definimos la tasa de llegada de los vehículos en un vehícuo cada 5 minutos. \n",
    "    # También definimos un diccionario con los tipos de vehículos que atenderá la planta \n",
    "    # y la tasa promedio de atención para cada tipo de vehículo. \n",
    "    # Experimente con tiempos mayores y otras tasas de atención y llegada. \n",
    "    \n",
    "    vehiculos = {'moto': 1.0/8, 'auto': 1.0/15, 'camioneta': 1.0/20}\n",
    "    tasa_llegada_vehiculos = 1/5\n",
    "    s = Simulacion(50, tasa_llegada_vehiculos, vehiculos) \n",
    "    s.run()"
   ]
  },
  {
   "cell_type": "markdown",
   "metadata": {},
   "source": [
    "### Lectura de archivos"
   ]
  },
  {
   "cell_type": "markdown",
   "metadata": {},
   "source": [
    "* Muchas veces vamos a tener que trabajar con bases de datos que no tenemos cargadas en el archivo en donde se tiene el código, para solucionar esto podemos importar los datos directamente desde python.\n",
    "* Existen distintos formatos en los que pueden estar las bases de datos, los más típicos para efectos de bases de datos con bajo nivel de especificación y peso son txt y csv. Para estos últimos existen librerías especializadas que son útiles para la lectura de archivos."
   ]
  },
  {
   "cell_type": "markdown",
   "metadata": {},
   "source": [
    "#### Ejemplo: \n",
    "* Para mostrar la lectura de datos vamos a ocupar un pequeño ejemplo que consiste en un mapa en donde existen casillas ocupadas (representadas por una X) y casillas libres (representadas por una O). El objetivo es construir un grafo en que se conecten las casillas vacías con las casillas adyacentes que se encuentren vacías, esto corresponde a un grafo no dirigido.\n",
    "\n",
    "* En este caso la base de datos de ejemplo se encuentra en un archivo txt y contiene la información en un formato super sencillo.\n",
    "\n",
    "La base de datos básicamente cuenta con `X` y `O` que representan si una celda en un tablero se encuentra ocupada (X) o vacía (O).\n",
    "\n",
    "\n",
    "Ejemplo de base de datos:\n",
    "\n",
    "```python\n",
    "XOXOO\n",
    "OOXOX\n",
    "XOOOO\n",
    "```\n",
    "\n",
    "\n"
   ]
  },
  {
   "cell_type": "code",
   "execution_count": 15,
   "metadata": {},
   "outputs": [],
   "source": [
    "def leer_datos(path):\n",
    "    with open(path,\"r\", encoding = \"UTF-8\") as archivo:\n",
    "        matriz = [ i.strip(\"\\n\") for i in archivo.readlines()] # i.strip(\"\\n\") para quitar los enter en cada linea\n",
    "        return matriz"
   ]
  },
  {
   "cell_type": "code",
   "execution_count": 16,
   "metadata": {},
   "outputs": [],
   "source": [
    "matriz = leer_datos(\"mapa_1.txt\")"
   ]
  },
  {
   "cell_type": "code",
   "execution_count": 17,
   "metadata": {},
   "outputs": [
    {
     "data": {
      "text/plain": [
       "['XOXOO', 'OOXOX', 'XOOOO']"
      ]
     },
     "execution_count": 17,
     "metadata": {},
     "output_type": "execute_result"
    }
   ],
   "source": [
    "matriz"
   ]
  },
  {
   "cell_type": "markdown",
   "metadata": {},
   "source": [
    "### Estructuras de datos built-in en python"
   ]
  },
  {
   "cell_type": "markdown",
   "metadata": {},
   "source": [
    "1. Actualmente se requiere almacenar la información con la que se trabaja de forma eficiente, para esto existen datos de tipo básico (int, float, bool, etc) que cumplen esa función, pero aún se requieren otras funcionalidades que estos datos no poseen. Para esto se ocupan estructuras de datos que corresponden a formas de guardar la información diseñadas para agrupar, almacenar o acceder a la información de forma eficiente.\n",
    "\n",
    "1. Las estructuras de datos involucran un alto nivel de abstracción y por lo tanto es posible establecer una clara y directa relación con la programación orientada a objetos (POO). El uso de cada tipo de estructura de datos tiene relación directa con el contexto de aplicación, como también con el diseño y eficiencia alcanzada por los algoritmos. Es decir, la elección adecuada de la estructura de datos es fundamental para desarrollar un buen software.\n",
    "\n",
    "\"*El saber que estructura de datos ocupar y en que momento o contexto hacerlo, hace la diferencia entre un programador y un buen programador*\". \n",
    "Hans Löbel"
   ]
  },
  {
   "cell_type": "markdown",
   "metadata": {},
   "source": [
    "Existen 4 estructuras de datos fundamentales en python que ofrecen una gran variedad de alternativas y funcionalidades que podemos aprovechar a la hora de programar, estas son las siguientes:\n",
    "1. Listas: (**list**, puede ser modelado como colas o stacks) para mas información [ver documentacion](https://docs.python.org/3/tutorial/datastructures.html)\n",
    "1. Tuplas: (**tuple**) para mas información [ver documentacion](https://docs.python.org/3/c-api/tuple.html)\n",
    "1. Conjuntos: (**set**) para mas información [ver documentacion](https://docs.python.org/3/c-api/set.html)\n",
    "1. Diccionarios: (**dict**) para mas información [ver documentacion](https://docs.python.org/3/tutorial/datastructures.html#dictionaries)\n",
    "\n",
    "Links de interés:\n",
    "* https://github.com/IIC2115/Syllabus/tree/master/Material%20de%20clases/Cap%C3%ADtulo%202\n",
    "* https://jpt-pynotes.readthedocs.io/en/latest/more-types.html\n",
    "* https://docs.python.org/3/tutorial/datastructures.html\n",
    "* https://stackoverflow.com/questions/28845284/add-vs-update-in-set-operations-in-python"
   ]
  },
  {
   "cell_type": "markdown",
   "metadata": {},
   "source": [
    "#### Listas y tuplas"
   ]
  },
  {
   "cell_type": "markdown",
   "metadata": {},
   "source": [
    "Estas estructuras están basadas en un ordenamiento secuencial de los elementos, según como son ingresados en la estructura. Soportan indexación de los elementos de la forma secuencia[índice]. El índice parte desde 0 hasta el largo de la secuencia - 1. Tienen la gran ventaja de que permiten hacer cortes (o slices) y son iterables, es decir, se pueden recorrer.\n",
    "\n",
    "La gran diferencia entre listas y tuplas es que las listas son estructuras de datos **MUTABLES** mientras que las tuplas son **INMUTABLES**, esto significa que las listas se pueden modificar pero las tuplas no. La principal ventaja de la inmutabilidad es que pueden ser usadas como valor de mapeo o llave en estructuras basadas en hashing, como son los diccionarios que veremos más adelante."
   ]
  },
  {
   "cell_type": "markdown",
   "metadata": {},
   "source": [
    "Forma general de hacer slicing en Python:\n",
    "\n",
    "* `a[start : end]`: retorna los elementos desde start hasta end-1.\n",
    "* `a[start:]`: retorna los elementos desde start hasta el final del arreglo.\n",
    "* `a[:end]`: retorna los elementos desde el principio hasta end-1.\n",
    "* `a[:]`: crea una copia (shallow) del arreglo completo. Es decir, el arreglo retornado está en una nueva dirección de memoria, pero los elementos en el arreglo están hace referencia a la dirección de memoria a los elemenos del arreglo original.\n",
    "* `a[start : end : step]`: retorna los elementos desde start hasta no pasar end, en pasos de a step.\n",
    "* `a[-1]`: retorna el último elemento en el arreglo.\n",
    "* `a[-n:]`: # últimos n elementos en el arreglo.\n",
    "* `a[:-n]`: retorna todos los elementos del arreglo menos los últimos n elementos."
   ]
  },
  {
   "cell_type": "code",
   "execution_count": 18,
   "metadata": {},
   "outputs": [
    {
     "name": "stdout",
     "output_type": "stream",
     "text": [
      "[2, 4, 10, 20]\n",
      "(20, 1)\n"
     ]
    }
   ],
   "source": [
    "numeros = [6, 7, 2, 4, 10, 20, 25] # Lista\n",
    "print(numeros[2:6])\n",
    "\n",
    "data = (400, 20, 1, 4, 10, 11, 12, 500) # Tupla\n",
    "print(data[1:3])"
   ]
  },
  {
   "cell_type": "markdown",
   "metadata": {},
   "source": [
    "#### Conjuntos (sets)"
   ]
  },
  {
   "cell_type": "markdown",
   "metadata": {},
   "source": [
    "Un set es un contenedor útil cuando tenemos que asegurar que los objetos no estén repetidos en la estructura de datos, ya que la estructura se encarga de mantener sólo una copia de cada elemento, a pesar de que lo agreguemos nuevamente (tal como en la unión de conjuntos). Los sets no tienen un orden particular, por lo que no son indexables pero si son iterables.\n",
    "\n",
    "En Python un set puede contener cualquier objeto hashable, es decir, objetos que pueden ser usados como llaves en diccionarios, y que por lo mismo deben ser inmutables. Se pueden agregar o eliminar elementos a un set ocupando add y remove, también existen otros métodos que pueden buscar en la documentación"
   ]
  },
  {
   "cell_type": "code",
   "execution_count": 19,
   "metadata": {
    "scrolled": true
   },
   "outputs": [
    {
     "name": "stdout",
     "output_type": "stream",
     "text": [
      "Todos: {'Maroon 5', 'Taylor Swift', 'Hozier', 'Ellie Goulding', 'Amy Wadge', 'Opeth', 'Mark Ronson'}\n",
      "Ambos: {'Taylor Swift'}\n"
     ]
    }
   ],
   "source": [
    "mis_artistas = {'Hozier', 'Opeth', 'Ellie Goulding', 'Mark Ronson', 'Taylor Swift'}\n",
    "artistas_album = {'Maroon 5', 'Taylor Swift', 'Amy Wadge'}\n",
    "\n",
    "print(\"Todos: {}\".format(mis_artistas.union(artistas_album)))\n",
    "print(\"Ambos: {}\".format(artistas_album.intersection(mis_artistas)))"
   ]
  },
  {
   "cell_type": "markdown",
   "metadata": {},
   "source": [
    "#### Diccionarios"
   ]
  },
  {
   "cell_type": "markdown",
   "metadata": {},
   "source": [
    "1. Los diccionarios corresponden a estructuras de datos orientadas a la asociación de pares de elementos mediante una relación: llave-valor. Esta relación permite que la búsqueda de los elementos se realice de forma eficiente mediante el uso de la llave, quien indica la posición de memoria donde está contenido su valor asociado.\n",
    "1. En Python los diccionarios se escriben con {}. Se debe especificar la llave y el valor, asociadas mediante `:`. Las llaves en los diccionarios pueden ser cualquier tipo de variable **inmutable**, las llaves deben ser únicas de lo contrario los elementos se sobreescriben.\n",
    "1. Acceder a un elemento del diccionario teniendo la llave es una operación de orden 1, por lo tanto son muy eficientes si se implementan de forma correcta."
   ]
  },
  {
   "cell_type": "code",
   "execution_count": 20,
   "metadata": {},
   "outputs": [
    {
     "name": "stdout",
     "output_type": "stream",
     "text": [
      "El país Chile ocupa la moneda Peso.\n",
      "El país España ocupa la moneda Euro.\n",
      "El país Perú ocupa la moneda Sol.\n",
      "El país Holanda ocupa la moneda Euro.\n"
     ]
    }
   ],
   "source": [
    "monedas_por_pais = {\"Chile\": \"Peso\", \"España\": \"Euro\", \"Perú\": \"Sol\", \"Holanda\": \"Euro\"}\n",
    "def imprime_monedas():\n",
    "    for pais, moneda in monedas_por_pais.items():\n",
    "        print(\"El país {} ocupa la moneda {}.\".format(pais, moneda))\n",
    "imprime_monedas()"
   ]
  },
  {
   "cell_type": "code",
   "execution_count": 21,
   "metadata": {},
   "outputs": [
    {
     "name": "stdout",
     "output_type": "stream",
     "text": [
      "El país Chile ocupa la moneda Peso.\n",
      "El país España ocupa la moneda Euro.\n",
      "El país Perú ocupa la moneda Sol.\n",
      "El país Holanda ocupa la moneda Euro.\n",
      "El país Estados Unidos ocupa la moneda Dolar.\n",
      "El país Brasil ocupa la moneda Real.\n",
      "El país Japón ocupa la moneda Yen.\n"
     ]
    }
   ],
   "source": [
    "monedas_por_pais[\"Estados Unidos\"] = \"Dolar\"\n",
    "monedas_por_pais.update({\"Brasil\": \"Real\", \"Japón\": \"Yen\"})\n",
    "imprime_monedas()"
   ]
  },
  {
   "cell_type": "code",
   "execution_count": 22,
   "metadata": {},
   "outputs": [
    {
     "name": "stdout",
     "output_type": "stream",
     "text": [
      "El país Chile ocupa la moneda Peso chileno.\n",
      "El país España ocupa la moneda Euro.\n",
      "El país Perú ocupa la moneda Sol.\n",
      "El país Holanda ocupa la moneda Euro.\n",
      "El país Estados Unidos ocupa la moneda Dolar.\n",
      "El país Brasil ocupa la moneda Real.\n",
      "El país Japón ocupa la moneda Yen.\n"
     ]
    }
   ],
   "source": [
    "monedas_por_pais[\"Chile\"] = \"Peso chileno\"\n",
    "imprime_monedas()"
   ]
  },
  {
   "cell_type": "code",
   "execution_count": 23,
   "metadata": {},
   "outputs": [
    {
     "name": "stdout",
     "output_type": "stream",
     "text": [
      "El país Chile ocupa la moneda Peso chileno.\n",
      "El país España ocupa la moneda Euro.\n",
      "El país Perú ocupa la moneda Sol.\n",
      "El país Estados Unidos ocupa la moneda Dolar.\n",
      "El país Japón ocupa la moneda Yen.\n",
      "\n",
      "Se ha eliminado Euro del diccionario de monedas\n"
     ]
    }
   ],
   "source": [
    "del (monedas_por_pais[\"Brasil\"])\n",
    "eliminado = monedas_por_pais.pop(\"Holanda\")\n",
    "imprime_monedas()\n",
    "print(\"\\nSe ha eliminado {} del diccionario de monedas\".format(eliminado))"
   ]
  },
  {
   "cell_type": "markdown",
   "metadata": {},
   "source": [
    "#### Defaultdicts"
   ]
  },
  {
   "cell_type": "markdown",
   "metadata": {},
   "source": [
    "1. Los defaultdict a diferencia de las otras estructuras de datos no vienen cargados en python, sino que se deben importar de la librería collections (que es interna de python, es decir, no requiere instalación).\n",
    "1. Los defaultdicts son escencialmente diccionarios que permiten agregar un valor por defecto a los valores de las llaves que no existen en el diccionario, de esta forma se evita que el código arroje un error al tratar de acceder al valor de una llave que no existe.\n",
    "1. Para fijar el valor por defecto se introduce una función que retorna lo que va a guardar el diccionario para las llaves que no existe, esta función se ejecuta cada vez que se intenta acceder a una llave inexistente en el diccionario."
   ]
  },
  {
   "cell_type": "code",
   "execution_count": 24,
   "metadata": {},
   "outputs": [
    {
     "name": "stdout",
     "output_type": "stream",
     "text": [
      "['1']\n",
      "['2']\n",
      "['3']\n",
      "['4']\n",
      "['5']\n",
      "defaultdict(<function funcion_ej at 0x11d47a680>, {'a': ['1'], 'b': ['2'], 'c': ['3'], 'd': ['4'], 'e': ['5']})\n"
     ]
    }
   ],
   "source": [
    "from collections import defaultdict\n",
    "\n",
    "num_items = 0\n",
    "\n",
    "def funcion_ej():\n",
    "    global num_items\n",
    "    num_items += 1\n",
    "    return ([str(num_items)])\n",
    "\n",
    "d = defaultdict(funcion_ej)\n",
    "\n",
    "print(d['a'])\n",
    "print(d['b'])\n",
    "print(d['c'])\n",
    "print(d['d'])\n",
    "print(d['e'])\n",
    "\n",
    "print(d)"
   ]
  },
  {
   "cell_type": "code",
   "execution_count": 25,
   "metadata": {},
   "outputs": [
    {
     "name": "stdout",
     "output_type": "stream",
     "text": [
      "defaultdict(<function funcion_ej at 0x11d47a680>, {'a': ['1'], 'b': ['2'], 'c': ['3'], 'd': ['4'], 'e': ['5']})\n"
     ]
    }
   ],
   "source": [
    "print(d)"
   ]
  },
  {
   "cell_type": "code",
   "execution_count": 26,
   "metadata": {},
   "outputs": [
    {
     "name": "stdout",
     "output_type": "stream",
     "text": [
      "El rut de Pablo Seisdedos es ''\n",
      "defaultdict(<class 'str'>, {'Nombre': 'Pablo', 'Apellido': 'Seisdedos', 'rut': ''})\n"
     ]
    }
   ],
   "source": [
    "datos = defaultdict(str)\n",
    "datos.update({\"Nombre\": \"Pablo\", \"Apellido\": \"Seisdedos\"})\n",
    "print(\"El rut de {} {} es '{}'\".format(datos[\"Nombre\"], datos[\"Apellido\"], datos[\"rut\"]))\n",
    "print(datos)"
   ]
  },
  {
   "cell_type": "code",
   "execution_count": 27,
   "metadata": {},
   "outputs": [
    {
     "name": "stdout",
     "output_type": "stream",
     "text": [
      "El rut de Pablo Seisdedos es 'NA'\n",
      "defaultdict(<function funcion_ej2 at 0x11d47a9e0>, {'Nombre': 'Pablo', 'Apellido': 'Seisdedos', 'rut': 'NA'})\n"
     ]
    }
   ],
   "source": [
    "def funcion_ej2():\n",
    "    return \"NA\"\n",
    "\n",
    "datos2 = defaultdict(funcion_ej2)\n",
    "datos2.update({\"Nombre\": \"Pablo\", \"Apellido\": \"Seisdedos\"})\n",
    "print(\"El rut de {} {} es '{}'\".format(datos2[\"Nombre\"], datos2[\"Apellido\"], datos2[\"rut\"]))\n",
    "print(datos2)"
   ]
  },
  {
   "cell_type": "markdown",
   "metadata": {},
   "source": [
    "### Modelar redes con POO"
   ]
  },
  {
   "cell_type": "markdown",
   "metadata": {},
   "source": [
    "En Python, también podemos construir nuestras propias estructuras de datos, en particular Python es un lenguaje de programación orientado a objetos, en donde literalmente casi todo es un objeto.\n",
    "\n",
    "Nosotros podemos construir un grafo ocupando programación orientada a objetos, para esto vamos a construir el grafo explicado en la parte de lectura de archivos."
   ]
  },
  {
   "cell_type": "markdown",
   "metadata": {},
   "source": [
    "Definimos la clase nodo para almacenar la información"
   ]
  },
  {
   "cell_type": "code",
   "execution_count": 28,
   "metadata": {},
   "outputs": [],
   "source": [
    "class Nodo:\n",
    "    _id = 0\n",
    "    def __init__(self, posicion):\n",
    "        self._id = Nodo._id \n",
    "        self.posicion = posicion # Tupla (x,y)\n",
    "        self.vecinos = []\n",
    "        Nodo._id += 1\n",
    "        \n",
    "    def add_vecino(self, nodo):\n",
    "        self.vecinos.append(nodo)\n",
    "        \n",
    "    def __str__(self):\n",
    "        return \"Nodo: \" + str(self.posicion) + \" Vecinos: \" + str([nodo.posicion for nodo in self.vecinos])\n",
    "    \n",
    "    def __repr__(self):\n",
    "        return str(self._id)\n",
    "    "
   ]
  },
  {
   "cell_type": "code",
   "execution_count": 29,
   "metadata": {},
   "outputs": [
    {
     "name": "stdout",
     "output_type": "stream",
     "text": [
      "Nodo: (0, 1) Vecinos: []\n"
     ]
    }
   ],
   "source": [
    "print(Nodo((0,1)))"
   ]
  },
  {
   "cell_type": "code",
   "execution_count": 30,
   "metadata": {},
   "outputs": [
    {
     "name": "stdout",
     "output_type": "stream",
     "text": [
      "[1, 2]\n"
     ]
    }
   ],
   "source": [
    "print([Nodo((0,1)), Nodo((3,5))])"
   ]
  },
  {
   "cell_type": "markdown",
   "metadata": {},
   "source": [
    "Almacenamos el grafo en una estructura de datos con las características que necesitemos"
   ]
  },
  {
   "cell_type": "code",
   "execution_count": 31,
   "metadata": {},
   "outputs": [],
   "source": [
    "def crear_grafo(matriz):\n",
    "    grafo = dict()\n",
    "    fila = len(matriz)\n",
    "    columna = len(matriz[0])\n",
    "    \n",
    "    for i in range(fila):\n",
    "        for j in range(columna):\n",
    "            if matriz[i][j] == \"O\":\n",
    "                if (i,j) not in grafo.keys():\n",
    "                    nodo = Nodo((i,j))\n",
    "                    grafo.update({(i,j):nodo}) # grafo[(i,j)] = nodo\n",
    "                \n",
    "                for f,c in [(-1,0),(0,-1),(1, 0), (0, 1)]: #Accede arriba, izquierda, abajo, derecha\n",
    "                    if i + f >= 0 and j + c >= 0 and i + f < fila and j + c < columna: # si no estoy en un borde\n",
    "                        if matriz[i+f][j+c] == \"O\":\n",
    "                            if (i+f,j+c) not in grafo.keys():\n",
    "                                vecino = Nodo((i+f,j+c))\n",
    "                                grafo.update({(i+f,j+c):vecino}) # grafo[(i+f,j+c)] = vecino\n",
    "                            else:\n",
    "                                vecino = grafo[(i+f,j+c)]\n",
    "                            grafo[(i,j)].add_vecino(vecino)\n",
    "    return grafo"
   ]
  },
  {
   "cell_type": "markdown",
   "metadata": {},
   "source": [
    "Probamos el código"
   ]
  },
  {
   "cell_type": "code",
   "execution_count": 32,
   "metadata": {},
   "outputs": [],
   "source": [
    "matriz = leer_datos(\"mapa_1.txt\")\n",
    "grafo = crear_grafo(matriz)"
   ]
  },
  {
   "cell_type": "code",
   "execution_count": 33,
   "metadata": {},
   "outputs": [
    {
     "name": "stdout",
     "output_type": "stream",
     "text": [
      "Nodo: (0, 1) Vecinos: [(1, 1)]\n",
      "Nodo: (1, 1) Vecinos: [(0, 1), (1, 0), (2, 1)]\n",
      "Nodo: (0, 3) Vecinos: [(1, 3), (0, 4)]\n",
      "Nodo: (1, 3) Vecinos: [(0, 3), (2, 3)]\n",
      "Nodo: (0, 4) Vecinos: [(0, 3)]\n",
      "Nodo: (1, 0) Vecinos: [(1, 1)]\n",
      "Nodo: (2, 1) Vecinos: [(1, 1), (2, 2)]\n",
      "Nodo: (2, 3) Vecinos: [(1, 3), (2, 2), (2, 4)]\n",
      "Nodo: (2, 2) Vecinos: [(2, 1), (2, 3)]\n",
      "Nodo: (2, 4) Vecinos: [(2, 3)]\n"
     ]
    }
   ],
   "source": [
    "for nodo in grafo.values():\n",
    "    print(nodo)"
   ]
  },
  {
   "cell_type": "markdown",
   "metadata": {},
   "source": [
    "### Graficar"
   ]
  },
  {
   "cell_type": "markdown",
   "metadata": {},
   "source": [
    "A continuación vamos a ver como graficar redes con la librería NetworkX. Para mayor información no duden en visitar [NetworkX Drawing Documentation](https://networkx.github.io/documentation/stable/reference/drawing.html)."
   ]
  },
  {
   "cell_type": "code",
   "execution_count": 34,
   "metadata": {},
   "outputs": [],
   "source": [
    "import networkx as nx\n",
    "import matplotlib.pyplot as plt\n",
    "\n",
    "def graficar_red(grafo, tamaño_fuente, tamaño_nodo):\n",
    "    G = nx.Graph()\n",
    "    posiciones = dict()\n",
    "    arcos = set()\n",
    "    \n",
    "    for nodo in grafo.values():\n",
    "        G.add_node(nodo._id,pos = nodo.posicion)\n",
    "        posiciones[nodo._id] = nodo.posicion\n",
    "        for vecino in nodo.vecinos:\n",
    "            if (nodo._id, vecino._id) not in arcos and (vecino._id, nodo._id) not in arcos:\n",
    "                G.add_edge(nodo._id, vecino._id) #cola, cabeza\n",
    "    nx.draw(G, pos=posiciones, with_labels=True, font_size=tamaño_fuente, node_size=tamaño_nodo, node_color=\"lightblue\")\n",
    "    plt.show()"
   ]
  },
  {
   "cell_type": "code",
   "execution_count": 35,
   "metadata": {},
   "outputs": [
    {
     "name": "stdout",
     "output_type": "stream",
     "text": [
      "Nodo: (0, 1) Vecinos: [(1, 1)]\n",
      "Nodo: (1, 1) Vecinos: [(0, 1), (1, 0), (2, 1)]\n",
      "Nodo: (0, 3) Vecinos: [(1, 3), (0, 4)]\n",
      "Nodo: (1, 3) Vecinos: [(0, 3), (2, 3)]\n",
      "Nodo: (0, 4) Vecinos: [(0, 3)]\n",
      "Nodo: (1, 0) Vecinos: [(1, 1)]\n",
      "Nodo: (2, 1) Vecinos: [(1, 1), (2, 2)]\n",
      "Nodo: (2, 3) Vecinos: [(1, 3), (2, 2), (2, 4)]\n",
      "Nodo: (2, 2) Vecinos: [(2, 1), (2, 3)]\n",
      "Nodo: (2, 4) Vecinos: [(2, 3)]\n"
     ]
    }
   ],
   "source": [
    "matriz = leer_datos(\"mapa_1.txt\")\n",
    "Nodo._id = 0\n",
    "grafo1 = crear_grafo(matriz)\n",
    "for nodo in grafo1.values():\n",
    "    print(nodo)"
   ]
  },
  {
   "cell_type": "code",
   "execution_count": 36,
   "metadata": {},
   "outputs": [
    {
     "data": {
      "image/png": "[encoded data removed]",
      "text/plain": [
       "<Figure size 432x288 with 1 Axes>"
      ]
     },
     "metadata": {},
     "output_type": "display_data"
    }
   ],
   "source": [
    "graficar_red(grafo1,15,700)"
   ]
  },
  {
   "cell_type": "code",
   "execution_count": 37,
   "metadata": {},
   "outputs": [
    {
     "name": "stdout",
     "output_type": "stream",
     "text": [
      "Nodo: (0, 1) Vecinos: [(1, 1)]\n",
      "Nodo: (1, 1) Vecinos: [(0, 1), (1, 0), (2, 1)]\n",
      "Nodo: (0, 3) Vecinos: [(1, 3), (0, 4)]\n",
      "Nodo: (1, 3) Vecinos: [(0, 3), (2, 3)]\n",
      "Nodo: (0, 4) Vecinos: [(0, 3)]\n",
      "Nodo: (0, 6) Vecinos: [(1, 6), (0, 7)]\n",
      "Nodo: (1, 6) Vecinos: [(0, 6), (1, 5), (1, 7)]\n",
      "Nodo: (0, 7) Vecinos: [(0, 6), (1, 7)]\n",
      "Nodo: (1, 7) Vecinos: [(0, 7), (1, 6), (2, 7), (1, 8)]\n",
      "Nodo: (0, 9) Vecinos: [(1, 9)]\n",
      "Nodo: (1, 9) Vecinos: [(0, 9), (1, 8), (2, 9)]\n",
      "Nodo: (1, 0) Vecinos: [(1, 1)]\n",
      "Nodo: (2, 1) Vecinos: [(1, 1), (2, 2)]\n",
      "Nodo: (2, 3) Vecinos: [(1, 3), (2, 2), (3, 3), (2, 4)]\n",
      "Nodo: (1, 5) Vecinos: [(2, 5), (1, 6)]\n",
      "Nodo: (2, 5) Vecinos: [(1, 5), (2, 4), (3, 5)]\n",
      "Nodo: (2, 7) Vecinos: [(1, 7), (2, 8)]\n",
      "Nodo: (1, 8) Vecinos: [(1, 7), (2, 8), (1, 9)]\n",
      "Nodo: (2, 8) Vecinos: [(1, 8), (2, 7), (2, 9)]\n",
      "Nodo: (2, 9) Vecinos: [(1, 9), (2, 8)]\n",
      "Nodo: (2, 2) Vecinos: [(2, 1), (3, 2), (2, 3)]\n",
      "Nodo: (3, 2) Vecinos: [(2, 2), (3, 3)]\n",
      "Nodo: (3, 3) Vecinos: [(2, 3), (3, 2), (4, 3)]\n",
      "Nodo: (2, 4) Vecinos: [(2, 3), (2, 5)]\n",
      "Nodo: (3, 5) Vecinos: [(2, 5), (4, 5)]\n",
      "Nodo: (3, 0) Vecinos: [(4, 0)]\n",
      "Nodo: (4, 0) Vecinos: [(3, 0), (5, 0), (4, 1)]\n",
      "Nodo: (4, 3) Vecinos: [(3, 3), (5, 3)]\n",
      "Nodo: (4, 5) Vecinos: [(3, 5), (5, 5), (4, 6)]\n",
      "Nodo: (5, 0) Vecinos: [(4, 0), (6, 0), (5, 1)]\n",
      "Nodo: (4, 1) Vecinos: [(4, 0), (5, 1)]\n",
      "Nodo: (5, 1) Vecinos: [(4, 1), (5, 0), (6, 1)]\n",
      "Nodo: (5, 3) Vecinos: [(4, 3), (6, 3), (5, 4)]\n",
      "Nodo: (5, 5) Vecinos: [(4, 5), (5, 4), (6, 5), (5, 6)]\n",
      "Nodo: (4, 6) Vecinos: [(4, 5), (5, 6), (4, 7)]\n",
      "Nodo: (5, 6) Vecinos: [(4, 6), (5, 5), (6, 6)]\n",
      "Nodo: (4, 7) Vecinos: [(4, 6), (4, 8)]\n",
      "Nodo: (4, 8) Vecinos: [(4, 7), (4, 9)]\n",
      "Nodo: (4, 9) Vecinos: [(4, 8), (5, 9)]\n",
      "Nodo: (5, 9) Vecinos: [(4, 9), (6, 9)]\n",
      "Nodo: (6, 0) Vecinos: [(5, 0), (6, 1)]\n",
      "Nodo: (6, 1) Vecinos: [(5, 1), (6, 0), (7, 1)]\n",
      "Nodo: (6, 3) Vecinos: [(5, 3), (7, 3), (6, 4)]\n",
      "Nodo: (5, 4) Vecinos: [(5, 3), (6, 4), (5, 5)]\n",
      "Nodo: (6, 4) Vecinos: [(5, 4), (6, 3), (7, 4), (6, 5)]\n",
      "Nodo: (6, 5) Vecinos: [(5, 5), (6, 4), (7, 5), (6, 6)]\n",
      "Nodo: (6, 6) Vecinos: [(5, 6), (6, 5)]\n",
      "Nodo: (6, 9) Vecinos: [(5, 9), (6, 8)]\n",
      "Nodo: (7, 1) Vecinos: [(6, 1), (7, 2)]\n",
      "Nodo: (7, 3) Vecinos: [(6, 3), (7, 2), (8, 3), (7, 4)]\n",
      "Nodo: (7, 4) Vecinos: [(6, 4), (7, 3), (7, 5)]\n",
      "Nodo: (7, 5) Vecinos: [(6, 5), (7, 4), (8, 5)]\n",
      "Nodo: (6, 8) Vecinos: [(6, 9)]\n",
      "Nodo: (7, 2) Vecinos: [(7, 1), (8, 2), (7, 3)]\n",
      "Nodo: (8, 2) Vecinos: [(7, 2), (8, 3)]\n",
      "Nodo: (8, 3) Vecinos: [(7, 3), (8, 2)]\n",
      "Nodo: (8, 5) Vecinos: [(7, 5), (8, 6)]\n",
      "Nodo: (7, 7) Vecinos: [(8, 7)]\n",
      "Nodo: (8, 7) Vecinos: [(7, 7), (8, 6)]\n",
      "Nodo: (8, 6) Vecinos: [(8, 5), (8, 7)]\n"
     ]
    }
   ],
   "source": [
    "matriz = leer_datos(\"mapa_2.txt\")\n",
    "Nodo._id = 0\n",
    "grafo2 = crear_grafo(matriz)\n",
    "for nodo in grafo2.values():\n",
    "    print(nodo)"
   ]
  },
  {
   "cell_type": "code",
   "execution_count": 38,
   "metadata": {},
   "outputs": [
    {
     "data": {
      "image/png": "[encoded data removed]",
      "text/plain": [
       "<Figure size 432x288 with 1 Axes>"
      ]
     },
     "metadata": {},
     "output_type": "display_data"
    }
   ],
   "source": [
    "graficar_red(grafo2, 10, 300)"
   ]
  },
  {
   "cell_type": "markdown",
   "metadata": {},
   "source": [
    "A pesar de que con lo anterior debieran tener la capacidad de generar sus propios grafos a su gusto, a continuación tienen un ejemplo que también les podría resultar interesante."
   ]
  },
  {
   "cell_type": "code",
   "execution_count": 39,
   "metadata": {},
   "outputs": [
    {
     "data": {
      "image/png": "[encoded data removed]",
      "text/plain": [
       "<Figure size 432x288 with 1 Axes>"
      ]
     },
     "metadata": {},
     "output_type": "display_data"
    }
   ],
   "source": [
    "# Author: Aric Hagberg (hagberg@lanl.gov)\n",
    "# link: https://networkx.github.io/documentation/networkx-1.9/examples/drawing/labels_and_colors.html\n",
    "\n",
    "G = nx.cubical_graph()\n",
    "pos = nx.spring_layout(G) \n",
    "\n",
    "# generando nodos\n",
    "nx.draw_networkx_nodes(G, pos,\n",
    "                       nodelist=[0, 1, 2, 3],\n",
    "                       node_color='r', # color rojo\n",
    "                       node_size=500,\n",
    "                       alpha=0.8) # el alpha es la transparencia\n",
    "nx.draw_networkx_nodes(G, pos,\n",
    "                       nodelist=[4, 5, 6, 7],\n",
    "                       node_color='b', # color azul\n",
    "                       node_size=500,\n",
    "                       alpha=0.8)\n",
    "\n",
    "# generando arcos\n",
    "nx.draw_networkx_edges(G, pos, width=1.0, alpha=0.5) #esto genera los arcos 'normales'\n",
    "nx.draw_networkx_edges(G, pos, edgelist=[(0, 1), (1, 2), (2, 3), (3, 0)], width=8, alpha=0.5, edge_color='r') #borde rojo\n",
    "nx.draw_networkx_edges(G, pos, edgelist=[(4, 5), (5, 6), (6, 7), (7, 4)], width=8, alpha=0.5, edge_color='b') #borde azul\n",
    "\n",
    "\n",
    "# Acá le cambiamos los nombres a los nodos\n",
    "labels = {}\n",
    "labels[0] = r'$a$' #cursivas\n",
    "labels[1] = r'$b$'\n",
    "labels[2] = r'$c$'\n",
    "labels[3] = r'$d$'\n",
    "labels[4] = r'$\\alpha$'\n",
    "labels[5] = r'$\\beta$'\n",
    "labels[6] = r'$\\gamma$'\n",
    "labels[7] = r'$\\delta$'\n",
    "nx.draw_networkx_labels(G, pos, labels, font_size=16)\n",
    "\n",
    "plt.axis('off')\n",
    "plt.show()"
   ]
  },
  {
   "cell_type": "markdown",
   "metadata": {},
   "source": [
    "Ahora vamos a ver como hacer gráficos con matplotlib"
   ]
  },
  {
   "cell_type": "code",
   "execution_count": 40,
   "metadata": {},
   "outputs": [],
   "source": [
    "from math import exp"
   ]
  },
  {
   "cell_type": "code",
   "execution_count": 41,
   "metadata": {},
   "outputs": [
    {
     "data": {
      "text/plain": [
       "Text(0, 0.5, 'Eje y')"
      ]
     },
     "execution_count": 41,
     "metadata": {},
     "output_type": "execute_result"
    },
    {
     "data": {
      "image/png": "[encoded data removed]",
      "text/plain": [
       "<Figure size 432x288 with 1 Axes>"
      ]
     },
     "metadata": {
      "needs_background": "light"
     },
     "output_type": "display_data"
    }
   ],
   "source": [
    "plt.plot([i for i in range(1,40)], [1000/exp(i) for i in range(1,40)], label = \"Exponencial\", c=\"red\")\n",
    "plt.plot([i for i in range(1,40)], [20*i for i in range(1,40)], label = \"Recta\" , c=\"blue\")\n",
    "plt.legend()\n",
    "plt.axis([1, 10, 0, 300])\n",
    "plt.title(\"Título\")\n",
    "plt.xlabel(\"Eje x\")\n",
    "plt.ylabel(\"Eje y\")"
   ]
  },
  {
   "cell_type": "markdown",
   "metadata": {},
   "source": [
    "### Gráficos en 3D"
   ]
  },
  {
   "cell_type": "markdown",
   "metadata": {},
   "source": [
    "Esta función se ocupa para calcular la distancia euclidiana entre dos puntos"
   ]
  },
  {
   "cell_type": "code",
   "execution_count": 42,
   "metadata": {},
   "outputs": [],
   "source": [
    "def distancia(pos1, pos2):\n",
    "    \"\"\"\n",
    "    distancia -- calcula distancia entre dos posiciones (de nodos) \n",
    "    Parámetros: \n",
    "        - pos1, pos2: tupla de posiciones (x,y)\n",
    "    Retorna distancia entre dos puntos\n",
    "    \"\"\"\n",
    "    x1 = pos1[0]\n",
    "    y1 = pos1[1]\n",
    "    x2 = pos2[0]\n",
    "    y2 = pos2[1]\n",
    "    return np.sqrt((x2 - x1)**2 + (y2 - y1)**2)"
   ]
  },
  {
   "cell_type": "code",
   "execution_count": 57,
   "metadata": {},
   "outputs": [
    {
     "name": "stdout",
     "output_type": "stream",
     "text": [
      "<class 'numpy.int64'>\n",
      "<class 'numpy.int64'>\n",
      "<class 'numpy.int64'>\n",
      "<class 'numpy.int64'>\n",
      "<class 'numpy.int64'>\n",
      "<class 'numpy.int64'>\n",
      "<class 'numpy.int64'>\n"
     ]
    },
    {
     "data": {
      "image/png": "[encoded data removed]",
      "text/plain": [
       "<Figure size 720x504 with 1 Axes>"
      ]
     },
     "metadata": {
      "needs_background": "light"
     },
     "output_type": "display_data"
    }
   ],
   "source": [
    "import numpy as np\n",
    "from mpl_toolkits.mplot3d import Axes3D\n",
    "from random import randint, seed, random\n",
    "\n",
    "# Author: Sebastián barriga\n",
    "\n",
    "seed(124)\n",
    "n = 10\n",
    "nodos = dict()\n",
    "arcos = dict()\n",
    "for i in range(n):\n",
    "    nodos[i] = (randint(0,20), randint(0,20), randint(0,20))\n",
    "for i in nodos:\n",
    "    for j in nodos:\n",
    "        if i < j:\n",
    "            arcos[(i,j)] = distancia(nodos[i], nodos[j])\n",
    "\n",
    "G = nx.Graph() #grafo no dirigido\n",
    "posiciones = {}\n",
    "for nodo in nodos:\n",
    "    G.add_node(nodo, pos=nodos[nodo])\n",
    "    pos = nodos[nodo]\n",
    "    pos = np.asarray(pos)\n",
    "    posiciones[nodo] = pos\n",
    "\n",
    "for arco in arcos:\n",
    "    if random() < 0.2:\n",
    "        G.add_edge(arco[0], arco[1], weight=arcos[arco])\n",
    "\n",
    "with plt.style.context(\"bmh\"): #estilo del gráfico: por ejemplo probar 'dark_background'\n",
    "    fig = plt.figure(\"Grafo\", figsize=(10, 7)) #Genera una figura\n",
    "    ax = Axes3D(fig) #genera un eje\n",
    "    for key, value in posiciones.items():\n",
    "        xi = value[0]\n",
    "        yi = value[1]\n",
    "        zi = value[2]\n",
    "\n",
    "    ax.scatter3D(xi, yi, zi) #nodos: los plotea en un gráfico de dispersión\n",
    "    for i, j in enumerate(G.edges()): #i es el id, j es la tupla del arco\n",
    "        cola = j[0]\n",
    "        cabeza = j[1]\n",
    "        \n",
    "        x = np.array((posiciones[cola][0], posiciones[cabeza][0])) #me entrega las coordenadas de cola y cabeza del eje x\n",
    "        y = np.array((posiciones[cola][1], posiciones[cabeza][1]))\n",
    "        z = np.array((posiciones[cola][2], posiciones[cabeza][2])) \n",
    "        print(type(x[1]))\n",
    "        ax.plot(x,y,z, alpha=0.7, marker= 8 ,c=\"g\") #agregando c='#1f77b4' serán todos azules\n",
    "ax.view_init(0, 0) #Es el ángulo en el que se muestra el gráfico: si están desde un editor, podrán girarlo \n",
    "plt.show()"
   ]
  },
  {
   "cell_type": "code",
   "execution_count": null,
   "metadata": {},
   "outputs": [],
   "source": []
  },
  {
   "cell_type": "code",
   "execution_count": null,
   "metadata": {},
   "outputs": [],
   "source": []
  },
  {
   "cell_type": "code",
   "execution_count": null,
   "metadata": {},
   "outputs": [],
   "source": []
  },
  {
   "cell_type": "code",
   "execution_count": null,
   "metadata": {},
   "outputs": [],
   "source": []
  },
  {
   "cell_type": "code",
   "execution_count": null,
   "metadata": {},
   "outputs": [],
   "source": []
  },
  {
   "cell_type": "code",
   "execution_count": null,
   "metadata": {},
   "outputs": [],
   "source": []
  },
  {
   "cell_type": "code",
   "execution_count": null,
   "metadata": {},
   "outputs": [],
   "source": []
  },
  {
   "cell_type": "code",
   "execution_count": null,
   "metadata": {},
   "outputs": [],
   "source": []
  }
 ],
 "metadata": {
  "kernelspec": {
   "display_name": "Python 3",
   "language": "python",
   "name": "python3"
  },
  "language_info": {
   "codemirror_mode": {
    "name": "ipython",
    "version": 3
   },
   "file_extension": ".py",
   "mimetype": "text/x-python",
   "name": "python",
   "nbconvert_exporter": "python",
   "pygments_lexer": "ipython3",
   "version": "3.7.4"
  }
 },
 "nbformat": 4,
 "nbformat_minor": 2
}
