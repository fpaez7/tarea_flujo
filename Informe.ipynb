{
 "cells": [
  {
   "cell_type": "markdown",
   "metadata": {},
   "source": [
    "# Tarea 1 Grupo\n"
   ]
  },
  {
   "cell_type": "markdown",
   "metadata": {},
   "source": [
    "Contextualizar un poco (archivos secundarios y despues el principal con las respuestas a las preguntas)\n"
   ]
  },
  {
   "cell_type": "markdown",
   "metadata": {},
   "source": [
    "## Archivos secundarios\n"
   ]
  },
  {
   "cell_type": "code",
   "execution_count": null,
   "metadata": {},
   "outputs": [],
   "source": [
    "from random import seed, random\n",
    "from numpy.random import poisson, negative_binomial\n",
    "from numpy.random import seed as npseed\n",
    "\n",
    "\n",
    "\n",
    "def simulation_parameters(total, delta_t,s):\n",
    "    seed(s)\n",
    "    npseed(s)\n",
    "    r_p = {i: poisson(15) for i in range(total)} # El tiempo de recuperacion\n",
    "    c_p = {i: min(r_p[i], negative_binomial(6,0.5)) for i in range(total)} # Tiempo en que se da cuenta\n",
    "    contagios = {t: {i: random() for i in range(total)} for t in range(delta_t + 1)}\n",
    "\n",
    "    return r_p, c_p, contagios\n",
    "### es ineficiente, porque nos da el numero de probabilidad de que se contagie en cada día aunque no se reunan (son numeros inuyiles)\n",
    "## que no es tan importante, pero lo tuvimos en cuenta para el orden\n",
    "##y nos generaria problemas"
   ]
  },
  {
   "cell_type": "markdown",
   "metadata": {},
   "source": [
    "Aca explicas Personas importante exlicar sus atributos  y los metodos pasar dia y contacto"
   ]
  },
  {
   "cell_type": "code",
   "execution_count": null,
   "metadata": {},
   "outputs": [],
   "source": [
    "class Persona:\n",
    "    def __init__(self,id,probabilidad_contagio):\n",
    "        self._id = id #esto es por bonito nada más, para identificar a cada persona\n",
    "        self._probabilidad_contagio = probabilidad_contagio #probabilidad de contagio inicial de cada persona\n",
    "        self.estado = \"S\" # S: sano; A asintomatico; E enfermo ; M muerto ; R recuperado\n",
    "        self._dias_recuperacion = 0 #cuenta regresiva a recuperacion, se inicializan en 0 porque al principio no saben si tienen la enfermedad\n",
    "        self._dias_sintomas = 0 #cuenta regresiva a presentar sintomas\n",
    "    @property\n",
    "    def dias_recuperacion(self):  # manejan los cambios de estado (todas las propertys @)\n",
    "        return self._dias_recuperacion\n",
    "    @dias_recuperacion.setter\n",
    "    def dias_recuperacion(self, a):\n",
    "        if(a <= 0):\n",
    "            self._dias_recuperacion = 0\n",
    "            self.estado = \"R\"\n",
    "        self._dias_recuperacion = a\n",
    "    @property\n",
    "    def dias_sintomas(self):\n",
    "        return self._dias_sintomas\n",
    "    @dias_sintomas.setter\n",
    "    def dias_sintomas(self, a):    #dias hasta que empiezan a tener sintomas\n",
    "        if(a <= 0):\n",
    "            self._dias_sintomas = 0\n",
    "            self.estado = \"E\"                    #usamos clases por facilidad de modificar y clasificar estados, agregar todo tipo de informacion\n",
    "        self._dias_sintomas = a\n",
    "    def contacto(self,dado,dias_recuperacion,dias_sintomas):        #dado es para ver si se contagio o no, dado el numero del dado\n",
    "        if self.estado == \"S\" and dado <= self._probabilidad_contagio:\n",
    "            self.estado = \"A\"\n",
    "            self._dias_recuperacion = dias_recuperacion\n",
    "            self._dias_sintomas = min(dias_sintomas, dias_recuperacion)\n",
    "\n",
    "    def pasar_dia (self):\n",
    "        if self.estado in [\"A\",\"E\"]:                 #solo afecta si estas asintomatico o enfermo, sino estas sano o muerto, no afecta\n",
    "            if self.estado == \"A\":\n",
    "                self.dias_sintomas -= 1\n",
    "            self.dias_recuperacion -= 1\n",
    "\n",
    "    def __repr__(self):                     #los dos para que se vea bonito\n",
    "        return self.estado+str(self._id)\n",
    "    def __str__(self):\n",
    "        if self.estado == \"S\":\n",
    "            return f\"Soy {self._id}, estoy Sano, P contagio {self._probabilidad_contagio}\"\n",
    "        if self.estado == \"A\":\n",
    "            return f\"Soy {self._id}, estoy Asintomatico,sintomas:{self._dias_sintomas}, recuperacion {self._dias_recuperacion}\"\n",
    "        if self.estado == \"E\":\n",
    "            return f\"Soy {self._id}, estoy Enfermo, recuperacion {self._dias_recuperacion}\"\n",
    "        if self.estado == \"R\":\n",
    "            return f\"Soy {self._id}, estoy Recuperado \""
   ]
  },
  {
   "cell_type": "code",
   "execution_count": null,
   "metadata": {},
   "outputs": [],
   "source": [
    "#Codigo_Graficos.py\n",
    "import matplotlib.pyplot as plt\n",
    "import numpy as np\n",
    "\n",
    "\n",
    "def graficar_infectados(diccionario):\n",
    "    cantidad_casos_totales = diccionario[\"it\"]   #it es infectados totales\n",
    "    cantidad_casos_recuperados = diccionario[\"r\"] #recueprados\n",
    "    cantidad_casos_actuales = diccionario[\"i\"] #infectados actuales\n",
    "    x = diccionario[\"t\"]   # dia\n",
    "    plt.plot(x, cantidad_casos_actuales,label= 'casos actuales')\n",
    "    plt.plot(x, cantidad_casos_recuperados, label= 'casos recuperados')\n",
    "    plt.plot(x, cantidad_casos_totales, label= 'casos totales')\n",
    "    plt.ylabel('Cantidad de infectados')\n",
    "    plt.xlabel('Días')\n",
    "    plt.title(\"Infectados en función del tiempo\")\n",
    "\n",
    "    plt.legend(loc=0)\n",
    "    plt.savefig(\"grafico_infectados.png\")\n",
    "    mostrar=plt.show()\n",
    "    return mostrar"
   ]
  },
  {
   "cell_type": "markdown",
   "metadata": {},
   "source": [
    "# Main script \n",
    "## Librerias Y VERBOSIDAD\n",
    "explicacion de librerias\n",
    "\n",
    "Las comentadas no son necesarias en jupyther notebook porque ya se ejecutaron las cendas\n",
    "Si verboso es true se imprimiran cosas en la consola "
   ]
  },
  {
   "cell_type": "code",
   "execution_count": null,
   "metadata": {},
   "outputs": [],
   "source": [
    "from collections import defaultdict          #para ordenarse en los momentos de reunion\n",
    "#from personas import Persona                #clase creada, mencionada en la celda anterior\n",
    "#from simulation_parameters import simulation_parameters    #para llamar a la funcion simulatio_parameters\n",
    "#from Codigo_Graficos import graficar_infectados            #para llamar a la funcion\n",
    "import os  #https://stackoverflow.com/questions/7165749/open-file-in-a-relative-location-in-python\n",
    "import re  #https://stackoverflow.com/questions/1249388/removing-all-non-numeric-characters-from-string-in-python\n",
    "import copy  #https://www.geeksforgeeks.org/copy-python-deep-copy-shallow-copy/\n",
    "import time  #medir los tiempos tiempos de simulacion, para medir la eficienci\n",
    "VERBOSIDAD = 1 # 0 es no imprimir nada, 1 minimo (recomendado), 2 es imprimir lo basico  , 3 es imprimir los detalles"
   ]
  },
  {
   "cell_type": "markdown",
   "metadata": {},
   "source": [
    "explicación (1.1 Nuestro grafo..)"
   ]
  },
  {
   "cell_type": "code",
   "execution_count": null,
   "metadata": {},
   "outputs": [],
   "source": [
    "#archivo main.py\n",
    "def crear_grafo ( personas, reuniones):\n",
    "    \"\"\" Crea un default diccionario donde las llaves son los dias y los elemntos son una\n",
    "    lista con los sets con los id de las personas que se juntaron \"\"\"\n",
    "    data_reuniones = defaultdict(list)\n",
    "    with open (reuniones) as file:    #abrir archivo\n",
    "        linea = file.__next__()       #nos da la unica linea del archivo\n",
    "    inter = linea.split(\"({\")         #lee la base de datos\n",
    "\n",
    "    for i in range(1,len(inter)):\n",
    "        parcial = set(map(int,inter[i].split(\"}\")[0].split(\", \")))    #usamos sets porque es mas eficiente la busqueda, facilita todo\n",
    "        dia = int(re.sub(\"[^0-9]\", \"\",inter[i].split(\"}\")[1] ))       \n",
    "        data_reuniones[dia].append(parcial)\n",
    "    #reuniones son los arcos\n",
    "    #cantidad de dia desde la infeccion que su estado de Enfermos con Sintomas\n",
    "    \"\"\" Crea un diccionario donde las llaves son las id y los elementos son instancias de la clase personas\"\"\"\n",
    "    data_personas = dict()    #no es defaultdict porque no tiene sentido preguntar por personas que no existen (gigo)\n",
    "    with open (personas) as file:   #fue un diccionario en vez de una lista, porque al principio estaba  desordenado y ahora no, pero ya esta hecho\n",
    "        linea = file.__next__().strip(\"{}\")\n",
    "    inter = linea.split(\", \")\n",
    "    for i in inter:\n",
    "        persona = i.split(\":\")\n",
    "        id = int(persona[0])\n",
    "        data_personas[id]= Persona(id,float(persona[1]))   #aca se guardo en cada nodo, una instancia para cada persona\n",
    "    return (data_personas,data_reuniones)\n",
    "\n",
    "# aca va el codigo de la funcion\n",
    "script_dir = os.path.dirname(\"Informe.ipynb\") #<-- absolute dir the script is in\n",
    "CODIGO = 1500 #Cantidad de pacientes\n",
    "personas = os.path.join(script_dir, f\"Instancias/personas_{CODIGO}.txt\")     #aca se crea el grafo (incluyendo las siguientes 3 lineas)\n",
    "reuniones = os.path.join(script_dir, f\"Instancias/reuniones_{CODIGO}.txt\")\n",
    "grafo = crear_grafo(personas,reuniones)  "
   ]
  },
  {
   "cell_type": "markdown",
   "metadata": {},
   "source": [
    "Aca explicas determinar contagiados importante notar la eficiencia de los sets (esta es la pregunta 1) (hacemos sets porque es muy eficientes los metodos union e intersection y es facil revisar si algo esta dentro del set)"
   ]
  },
  {
   "cell_type": "code",
   "execution_count": null,
   "metadata": {},
   "outputs": [],
   "source": [
    "#archivo main.py\n",
    "\n",
    "#bastante efciciente creo que el por caso seria si todas las personas se juntaran todos los dias\n",
    "def determinar_contagiados(grafo, p0 ,delta_dias):\n",
    "    #grafo es un grafo formado por la estructura de la funcion crear_grafo\n",
    "    #p0 es in integer con el indice del paciente 0\n",
    "    #dia_final número de días transcurridos\n",
    "    posibles = set()\n",
    "    posibles.add(p0)\n",
    "    data_reuniones = grafo[1]\n",
    "    for t in range (0,delta_dias+1):\n",
    "        if VERBOSIDAD>1:\n",
    "            print(f\"POSIBLES al principio del DIA {t}\",posibles)\n",
    "        for reunion in data_reuniones[t]:\n",
    "            if posibles.intersection(reunion):\n",
    "                posibles = posibles.union(reunion)\n",
    "                if VERBOSIDAD > 3:\n",
    "                    print(F\"Reunion infectada DIA{t}:\",reunion, \"culpables:\",posibles.intersection(reunion))\n",
    "    if VERBOSIDAD > 1:\n",
    "        print(F\"\\n POSIBLES al final del dia {t}\",posibles)\n",
    "    return posibles\n",
    "\n",
    "#acá se debería correr la función\n",
    "script_dir = os.path.dirname(\"Informe.ipynb\") #<-- absolute dir the script is in\n",
    "CODIGO = 1500 #Cantidad de pacientes\n",
    "personas = os.path.join(script_dir, f\"Instancias/personas_{CODIGO}.txt\")     #aca se crea el grafo (incluyendo las siguientes 3 lineas)\n",
    "reuniones = os.path.join(script_dir, f\"Instancias/reuniones_{CODIGO}.txt\")\n",
    "grafo = crear_grafo(personas,reuniones)\n",
    "p0 = 33 #paciente original\n",
    "delta_dias = 7 # Cantidad de dias\n",
    "determinar_contagiados(grafo,p0,delta_dias)\n"
   ]
  },
  {
   "cell_type": "code",
   "execution_count": null,
   "metadata": {},
   "outputs": [],
   "source": [
    "def simular_contagio( grafo, p0, delta_dias, s):\n",
    "    #vectores = infectados actuales\n",
    "    data_personas = grafo[0]          #primer elemento del grafo (los nodos)\n",
    "    data_reuniones = grafo[1]          # segundo\n",
    "    \"Se simulan los parametros necesarios para cada persona\"\n",
    "    parametros = simulation_parameters(len(data_personas),delta_dias,s)\n",
    "    dias_recuperacion = parametros[0]\n",
    "    dias_sintomas = parametros[1]\n",
    "    contagios = parametros[2]\n",
    "    vectores = set()        #los que pueden contagiar\n",
    "    vectores.add(p0)\n",
    "    infectados = set()\n",
    "    infectados.add(p0)\n",
    "    recuperados = set()\n",
    "\n",
    "    data_personas[p0].contacto(0,dias_recuperacion[p0] , dias_sintomas[p0])  ##inicilizar el tiempo para p0 con sus contadores\n",
    "    datos_infectados = []\n",
    "    datos_recuperados = []\n",
    "    datos_it = []\n",
    "    dias = []\n",
    "\n",
    "    for t in range (0,delta_dias+1):\n",
    "        if VERBOSIDAD > 1:\n",
    "            print(f\"Comienza DIA {t}\")\n",
    "            print(\"Inf:\",len(infectados),\"-Vect:\",len(vectores),\"-Rec:\",len(recuperados))\n",
    "        datos_infectados.append(len(infectados))\n",
    "        datos_recuperados.append(len(recuperados))\n",
    "        datos_it.append(len(recuperados)+len(infectados))     #guardando los datos de cada dia para ponerlos en el grafico\n",
    "        dias.append(t)\n",
    "        for reunion in data_reuniones[t]:\n",
    "            culpables = vectores.intersection(reunion) #son los que infectaron la reunion, que tiene complejidad (buscar)\n",
    "            if culpables:                    #si es que existen culpables, que es lo mismo que decir len(culpables)>0            \n",
    "                for posible_contagiado in reunion - culpables:       # la resta es sacar los elementos iguales\n",
    "                    id = posible_contagiado\n",
    "                    if id not in recuperados and id not in infectados:   # si no esta en ninguno de los dos, esta sano\n",
    "                        data_personas[id].contacto(contagios[t][id],dias_recuperacion[id] , dias_sintomas[id])  # ese contagios da el numero del dado,\n",
    "       \n",
    "        ##########################################################\n",
    "        ##### VERDADERA FUENTE DE INEFICIENCIA DEL PROGRAMA ######\n",
    "        ##########################################################\n",
    "        # porque iteramos sobre todas las personas todos los dias O(m*n)   m:cantidad personas, n: cantidad de días\n",
    "        # si queremos mejorar la eficiencia del codigo, esto es lo que hay que mejorar\n",
    "        # podriamos llevar la cuenta de cambios de estado de las personas y asi tener el estado en cada momento del individuo, pero de esta forma,\n",
    "        # perdemos la moldeabilidad y la escalabilidad del codigo (por ahora podría tener más caracteristicas el codigo(relaciones mas complejas,\n",
    "        # mas enfermedades, muertes, entre otros factores) gracias a que los tratamos como objeto y no como una sola variable)\n",
    "        infectados = set()\n",
    "        vectores = set()\n",
    "        recuperados = set()\n",
    "        for i in range(0,len(data_personas)):                   \n",
    "            data_personas[i].pasar_dia()\n",
    "            if data_personas[i].estado == \"A\":\n",
    "                vectores.add(i)\n",
    "                infectados.add(i)\n",
    "            elif data_personas[i].estado == \"E\":\n",
    "                infectados.add(i)\n",
    "            elif data_personas[i].estado == \"R\":\n",
    "                recuperados.add(i)\n",
    "            elif data_personas[i].estado == \"S\":\n",
    "                pass\n",
    "            else:\n",
    "                print(\"ERROR ESTADO ANOMALO\")\n",
    "    if VERBOSIDAD:\n",
    "        print(f\"Fin del DIA {t}\")\n",
    "        print(\"Inf:\",len(infectados),\"-Vect:\",len(vectores),\"-Rec:\",len(recuperados))\n",
    "    return infectados,recuperados,{\"t\":dias,\n",
    "            \"i\":datos_infectados,\n",
    "            \"it\":datos_it,\n",
    "            \"r\":datos_recuperados}\n",
    "\n",
    "#acá se debería correr la función\n",
    "VERBOSIDAD = 1\n",
    "script_dir = os.path.dirname(\"Informe.ipynb\") #<-- absolute dir the script is in\n",
    "CODIGO = 1500 #Cantidad de pacientes\n",
    "personas = os.path.join(script_dir, f\"Instancias/personas_{CODIGO}.txt\")     #aca se crea el grafo (incluyendo las siguientes 3 lineas)\n",
    "reuniones = os.path.join(script_dir, f\"Instancias/reuniones_{CODIGO}.txt\")\n",
    "grafo = crear_grafo(personas,reuniones)\n",
    "p0 = 33 #paciente original\n",
    "delta_dias = 75 # Cantidad de dias\n",
    "p0 = 33 #paciente original\n",
    "delta_dias = 75 # Cantidad de dias\n",
    "SEED = 6\n",
    "resultados = simular_contagio( grafo, 33, delta_dias, SEED)\n",
    "graficar_infectados(resultados[2])"
   ]
  },
  {
   "cell_type": "markdown",
   "metadata": {},
   "source": [
    "# ADVERTENCIA: Correr esta celda puede demorar un tiempo (5 min aporx) "
   ]
  },
  {
   "cell_type": "code",
   "execution_count": null,
   "metadata": {
    "scrolled": true
   },
   "outputs": [],
   "source": [
    "def probabilidad_contagio(grafo,p0,delta_dias):\n",
    "    Cantidad = len(grafo[0])       #se obtiene la cantidad de personas\n",
    "    SIMULACIONES = 1000\n",
    "    conteos = {i: 0 for i in range(Cantidad)}      #esto crea un diccionario con las llaves siendo el id de la persona, y con todos los elementos en 0\n",
    "    tiempo_simulaciones = 0                        #crea el tiempo para las simulaciones\n",
    "    for s in range (0,SIMULACIONES):               #s es la semilla para poder hacer la cantidad de simulaciones requerida (1000), para tener diferentes semillas\n",
    "        copia_grafo = copy.deepcopy(grafo)         # en vez de crear grafos para cada simulacion, los copiamos y los vamos sobreescribiendo\n",
    "        if VERBOSIDAD:\n",
    "            print(\"-\"*45,f\"SIMUACION SEMILLA: {s}\",\"-\"*45)\n",
    "        t_inicio=time.time()\n",
    "        infectados = simular_contagio(copia_grafo, p0, delta_dias,s)[0]   ##aca da la complejidad del algoritmo que es O(|s|*|Cantidad|)  (cada simulacion se demora lac antidad de dias asi que son lo mismo)\n",
    "        tiempo_simulacion = time.time()-t_inicio\n",
    "        tiempo_simulaciones += tiempo_simulacion        #autoexplicativo\n",
    "        if VERBOSIDAD: # es lo mismo que if verbosidad >=1\n",
    "            print(F\"Tiempo de simulacion{tiempo_simulacion}\")\n",
    "        for i in range(Cantidad):\n",
    "            if i in infectados:\n",
    "                conteos[i] += 1       #en este for, se va actualizando el valor del diccionario, que nos dice cuantas veces se enfermo cada weon\n",
    "    for i in range (0, Cantidad):\n",
    "        conteos[i]= float(conteos[i])/float(SIMULACIONES) #ya esta hecha la division\n",
    "        if conteos[i] and VERBOSIDAD > 1:\n",
    "            print(f\"Pasinte{i}: probabilidad: {conteos[i]}\") #pos simplicidad solo printea los que son distintos de 0 \n",
    "    print(f\"Con {Cantidad} personas y {delta_dias} dias se demora {tiempo_simulaciones}s en hacer {SIMULACIONES} simulaciones\\nPromedio de simulacion{tiempo_simulaciones/SIMULACIONES} s\")\n",
    "    return conteos\n",
    "\n",
    "#acá se debería correr la función\n",
    "script_dir = os.path.dirname(\"Informe.ipynb\") #<-- absolute dir the script is in\n",
    "CODIGO = 1500 #Cantidad de pacientes\n",
    "personas = os.path.join(script_dir, f\"Instancias/personas_{CODIGO}.txt\")     #aca se crea el grafo (incluyendo las siguientes 3 lineas)\n",
    "reuniones = os.path.join(script_dir, f\"Instancias/reuniones_{CODIGO}.txt\")\n",
    "grafo = crear_grafo(personas,reuniones)\n",
    "p0 = 33 #paciente original\n",
    "delta_dias = 75 # Cantidad de dias\n",
    "p0 = 33 #paciente original\n",
    "delta_dias = 22 # Cantidad de dias\n",
    "probabilidades = probabilidad_contagio(grafo,p0,delta_dias)"
   ]
  },
  {
   "cell_type": "code",
   "execution_count": null,
   "metadata": {},
   "outputs": [],
   "source": [
    "probabilidades"
   ]
  },
  {
   "cell_type": "markdown",
   "metadata": {},
   "source": [
    "cada funcion debería ser ejecutada con los parámetros dichos en el enunciado"
   ]
  },
  {
   "cell_type": "markdown",
   "metadata": {},
   "source": [
    "Para analizar cualitativamente, tengo que especificar la instancia y la semilla, y comentar la wea \n",
    "\n",
    "POR como son los datos cuando se corren los 75 las probabilidades tienden a ser 0 o muy bajas "
   ]
  },
  {
   "cell_type": "markdown",
   "metadata": {},
   "source": [
    "# Parte 2:"
   ]
  },
  {
   "cell_type": "code",
   "execution_count": null,
   "metadata": {},
   "outputs": [],
   "source": [
    "import networkx as nx\n",
    "import os #operative system; se usa para abrir los archivos\n",
    "import json  #sistema mas comun para guardar informacion\n",
    "import numpy as np #se usa para trabajar los numeros\n",
    "import matplotlib.pyplot as plt   # libreria utilizada para graficar\n",
    "from mpl_toolkits.mplot3d import Axes3D\n",
    "import matplotlib.ticker as ticker\n",
    "import re #se usa para encontrar xpresiones regulares\n",
    "#https://stackoverflow.com/questions/1249388/removing-all-non-numeric-characters-from-string-in-python\n",
    "import xlsxwriter #https://xlsxwriter.readthedocs.io/tutorial01.html\n",
    "from collections import defaultdict "
   ]
  },
  {
   "cell_type": "markdown",
   "metadata": {},
   "source": [
    "En esta funcion se abren los archivos, los cuales tienen almacenada la informacion en formato json. Ademas, se crean los diccionarios correspondientes, retornandolos, para poder trabajar con la informacion contenida en los archivos."
   ]
  },
  {
   "cell_type": "code",
   "execution_count": null,
   "metadata": {},
   "outputs": [],
   "source": [
    "def abrir (nombre):\n",
    "    script_dir = os.path.dirname(__file__) #<-- absolute dir the script is in\n",
    "    path_archivo = os.path.join(script_dir, nombre)\n",
    "    with open(path_archivo, 'r') as file:\n",
    "        return eval(file.__next__())\n",
    "    return y"
   ]
  },
  {
   "cell_type": "markdown",
   "metadata": {},
   "source": [
    "Esta funcion toma como atributo los diccionarios obtenidos de la funcion anterior. Para crear el grafo se usa la libreria Netkorkx. Se define el nombre del nodo como; el tipo del nodo (\"a\" para abastecimiento o \"e\" para retiro) seguido del id (1,2,3...29 en el caso de nodos de abastecimiento o 1,2,3...49 para nodos de retirno) - \"t\" seguido del numero del periodo (1,2,3...69).   \n",
    "Se debe crear un nodo de sobreoferta, debido a que la libreria solo puede resolver el problema del flujo a costo minimo si la red esta balanceada."
   ]
  },
  {
   "cell_type": "code",
   "execution_count": null,
   "metadata": {},
   "outputs": [],
   "source": [
    "def crear_grafo(dic_abastecimientos,dic_encuentros,dic_transportes, dic_inventarios):\n",
    "    G = nx.DiGraph()\n",
    "    oferta_total = 0\n",
    "    demanda_total = 0\n",
    "    # nodos de abastecimiento son los oferente\n",
    "    for abastero in dic_abastecimientos:\n",
    "        for tiempo in dic_abastecimientos[abastero]:\n",
    "            oferta = dic_abastecimientos[abastero][tiempo]\n",
    "            oferta_total += oferta\n",
    "            G.add_node(f\"{abastero}-{tiempo}\", demand = -oferta)\n",
    "    # nodos de encuentro son los demandantes\n",
    "    for encuentro in dic_encuentros:\n",
    "        for tiempo in dic_encuentros[encuentro]:\n",
    "            demanda = dic_encuentros[encuentro][tiempo]\n",
    "            demanda_total += demanda\n",
    "            G.add_node(f\"{encuentro}-{tiempo}\", demand = demanda)\n",
    "    G.add_node(\"sobreoferta\", demand = oferta_total- demanda_total)\n",
    "    for abastero in dic_abastecimientos:\n",
    "        for tiempo in dic_abastecimientos[abastero]:\n",
    "            G.add_edge(f\"{abastero}-{tiempo}\", \"sobreoferta\", weight = 0)\n",
    "\n",
    "\n",
    "    #creamos los arcos que conectan los puntos de abastecimiento y retiro\n",
    "    for abastero in dic_transportes:\n",
    "        for encuentro in dic_transportes[abastero]:\n",
    "            for tiempo in dic_abastecimientos[abastero]:\n",
    "                costo = dic_transportes[abastero][encuentro][0]\n",
    "                cap = dic_transportes[abastero][encuentro][1]\n",
    "                G.add_edge(f\"{abastero}-{tiempo}\", f\"{encuentro}-{tiempo}\",\n",
    "                            weight = costo, capacity = cap)\n",
    "\n",
    "    #crear el arco de continuidad de inventario\n",
    "    #uniendo todo punto abastero con su antesesor temporal\n",
    "    for abastero in dic_abastecimientos:\n",
    "        t_anterior = False\n",
    "        for tiempo in dic_abastecimientos[abastero]:\n",
    "            if t_anterior:\n",
    "                costo = dic_inventarios[abastero][0]\n",
    "                cap = dic_inventarios[abastero][1]\n",
    "                G.add_edge(f\"{abastero}-{t_anterior}\", f\"{abastero}-{tiempo}\",\n",
    "                        weight = costo, capacity = cap)\n",
    "            t_anterior = tiempo\n",
    "    return G"
   ]
  },
  {
   "cell_type": "markdown",
   "metadata": {},
   "source": [
    "Esta función a partir del nombre del nodo, retorna sus cordenadas (numero del nodo, tiempo del nodo, letra (\"a\" o \"e\"))."
   ]
  },
  {
   "cell_type": "code",
   "execution_count": null,
   "metadata": {},
   "outputs": [],
   "source": [
    "def coordenadas(nodo):\n",
    "    tipo = nodo[0]\n",
    "    nodo = nodo.split(\"-\")\n",
    "    if len (nodo) == 2:\n",
    "        id   = int(re.sub(\"[^0-9]\",\"\",nodo[0] ))\n",
    "        tiempo  = int(re.sub(\"[^0-9]\",\"\",nodo[1] ))\n",
    "    else:\n",
    "        id = 0\n",
    "        tiempo = 0\n",
    "    return id,tiempo,tipo"
   ]
  },
  {
   "cell_type": "markdown",
   "metadata": {},
   "source": [
    "Esta es la función pedida en el enunciado, grafica el grafo entregado en el atributo. Ademas, tiene dos atributos optativos, los cuales se usa para graficar cosas \n",
    "especificas. Por ejemplo, si no se otorga un diccionario de flujos (variable dict_flujos) se grafican todos los arcos de la red. En el caso contrario, solo se \n",
    "grafican los arcos definidos en el diccionario.\n"
   ]
  },
  {
   "cell_type": "code",
   "execution_count": null,
   "metadata": {},
   "outputs": [],
   "source": [
    "def Graficar(grafo, dict_flujos = False , solo_nodos = False):\n",
    "    with plt.style.context(\"bmh\"): #estilo del gráfico: por ejemplo probar 'dark_background'\n",
    "        fig = plt.figure(\"Grafo\", figsize=(100, 7)) #Genera una figura\n",
    "        ax = Axes3D(fig) #genera un eje\n",
    "        colores = {'s':'red','a':'magenta','e':\"cyan\"  }\n",
    "        dict_zeta = {'e':0 ,'a':1,'s':2}\n",
    "\n",
    "        #lista de cordenadas de abastecimientos\n",
    "        x_a=[]\n",
    "        y_a=[]\n",
    "        z_a=[]\n",
    "        #lista de cordenadas de encuentros\n",
    "        x_e=[]\n",
    "        y_e=[]\n",
    "        z_e=[]\n",
    "        ## calculamos las cordenadas de todos los nodos\n",
    "        for i in grafo.nodes():\n",
    "            coor = coordenadas(i)\n",
    "            id = coor[0]\n",
    "            tiempo = coor[1]\n",
    "            tipo = coor[2]\n",
    "            if tipo == \"e\":\n",
    "                x_e.append(id)\n",
    "                y_e.append(tiempo)\n",
    "                z_e.append(dict_zeta[tipo])\n",
    "\n",
    "            elif tipo == \"a\":\n",
    "                x_a.append(id)\n",
    "                y_a.append(tiempo)\n",
    "                z_a.append(dict_zeta[tipo])\n",
    "            elif tipo == \"s\":\n",
    "                #sofreofera\n",
    "                x_s =[ id ]\n",
    "                y_s =[ tiempo]\n",
    "                z_s = [dict_zeta[tipo]]\n",
    "\n",
    "        ### graficamos todos los puntos segun sus colores\n",
    "        ax.scatter3D(x_e, y_e, z_e,color= colores['e'])\n",
    "        ax.scatter3D(x_a, y_a, z_a,color= colores['a'])\n",
    "        ax.scatter3D(x_s, y_s, z_s,color= colores['s'])\n",
    "\n",
    "\n",
    "        #añador arcos\n",
    "        if not dict_flujos:\n",
    "            #  Flujos va a ser igual a los arcos del grafo (para greficar TODOS LOS ARCOS)\n",
    "            flujos = dict(grafo.adjacency())\n",
    "        else:\n",
    "            # Flujos va a ser igual a los flujos entregados\n",
    "            flujos = dict_flujos\n",
    "        if not solo_nodos:\n",
    "            for inicio in flujos:\n",
    "                for fin in flujos[inicio]:\n",
    "                    # itera sobre todos los arcos pertenecientes a Flujo y los v graficando\n",
    "                    coor_in = coordenadas(inicio)\n",
    "                    coor_fn = coordenadas(fin)\n",
    "                    x = np.array((coor_in[0],coor_fn[0]))\n",
    "                    y = np.array((coor_in[1],coor_fn[1]))\n",
    "                    z = np.array((dict_zeta[coor_in[2]],dict_zeta[coor_fn[2]]))\n",
    "                    if not dict_flujos:\n",
    "                        ax.plot(x,y,z, alpha=0.7 ,c= colores[coor_fn[2]])\n",
    "                    elif dict_flujos[inicio][fin]:\n",
    "                        ax.plot(x,y,z, alpha=0.7 ,c= colores[coor_fn[2]])\n",
    "        ax.view_init(30, 210) #Es el ángulo en el que se muestra el gráfico: si están desde un editor, podrán girarlo\n",
    "        ax.set_xlabel('Id') # cambio los nombres de los ejes\n",
    "        ax.set_ylabel('Tiempo')\n",
    "        ax.set_zlabel('Tipo de punto')\n",
    "        return plt"
   ]
  },
  {
   "cell_type": "markdown",
   "metadata": {},
   "source": [
    "Esta es la función que pasa el dicionario a un excel, donde cada hoja del excel es un dia distinto, y es una lista con (origen, destino, cantidad transportada). Los flujos que son cero no se anotan en el excel. "
   ]
  },
  {
   "cell_type": "code",
   "execution_count": null,
   "metadata": {},
   "outputs": [],
   "source": [
    "def flow_to_xlsx(flow,outfile):\n",
    "    dias = defaultdict(list)\n",
    "\n",
    "    for inicio in flow:\n",
    "        for final in flow[inicio]:\n",
    "            coor_in = coordenadas(inicio)\n",
    "            coor_fn =  coordenadas(final)\n",
    "            if flow[inicio][final]:\n",
    "                dias[coor_in[1]].append([inicio,final,flow[inicio][final]])\n",
    "\n",
    "\n",
    "    workbook = xlsxwriter.Workbook(outfile)\n",
    "    for dia in dias:\n",
    "        worksheet = workbook.add_worksheet(f\"t{dia}\")\n",
    "\n",
    "\n",
    "        for row in range(0,len(dias[dia])):\n",
    "            arco = dias[dia][row]\n",
    "            for col in range(0,len(arco)):\n",
    "                worksheet.write(row, col ,arco[col])\n",
    "    workbook.close()"
   ]
  },
  {
   "cell_type": "markdown",
   "metadata": {},
   "source": [
    "Fución que se pide se pide en el enunciado, parte II. Grafica una representacion simple de la red."
   ]
  },
  {
   "cell_type": "code",
   "execution_count": null,
   "metadata": {},
   "outputs": [],
   "source": [
    "def grafico_pfmc():\n",
    "    #le cambie los valores para que tuviera solucion\n",
    "    encuentros = {'e0': {'t0': 22, 't1': 16}, 'e1': {'t0': 34, 't1': 26}}\n",
    "    abastecimientos = {'a0': {'t0': 720, 't1': 586}, 'a1': {'t0': 561, 't1': 985}}\n",
    "    transporte = {'a0': {'e0': (5, 32), 'e1': (6, 43)},'a1': {'e0': (7, 67), 'e1': (8, 36)}}\n",
    "    inventario = {'a0': (0, 427), 'a1': (0, 445)}\n",
    "    G = crear_grafo(abastecimientos,encuentros,transporte,inventario)\n",
    "    grafico = Graficar(G)\n",
    "    grafico.title(\"Representacion Simple\")\n",
    "    grafico.savefig(\"representacion_simple.png\")\n",
    "    #grafico.show()\n",
    "\n",
    "    \"\"\" Bonus: Esto resuleve el PFMC del ejemplo chico y lo grafica, podria mostrar las\n",
    "    cantidades de flujo en el grafico pero no nos dan puntaje por eso\"\"\"\n",
    "    flowDict = nx.min_cost_flow(G)\n",
    "    flow_to_xlsx(flowDict,\"Resultado Simple.xlsx\") #lo paso a excel\n",
    "    with open('resultado_simple.txt', 'w') as outfile: # y a txt pot si acaso\n",
    "        json.dump(flowDict, outfile)\n",
    "    grafico = Graficar(G,flowDict)\n",
    "    grafico.title(\"Solucion Simple\")\n",
    "    grafico.savefig(\"solucion_simple.png\")\n",
    "    #grafico.show()"
   ]
  },
  {
   "cell_type": "markdown",
   "metadata": {},
   "source": [
    "Se resuelve el problema con los valores en las bases de datos entregadas, retornando flujos en formato json."
   ]
  },
  {
   "cell_type": "code",
   "execution_count": null,
   "metadata": {},
   "outputs": [],
   "source": [
    "def resolver_pfmc(abastecimiento, encuentro, transporte, inventario) :\n",
    "    abastecimientos = abrir(f\"Instancias/{abastecimiento}\")\n",
    "    encuentros = abrir(f\"Instancias/{encuentro}\")\n",
    "    transporte = abrir (f\"Instancias/{transporte}\")\n",
    "    inventario = abrir (f\"Instancias/{inventario}\")\n",
    "    #crea un grafo con los datos de las intancias\n",
    "    G = crear_grafo(abastecimientos,encuentros,transporte,inventario)\n",
    "    flowDict = nx.min_cost_flow(G)\n",
    "    \"\"\"BONUS: grafica con solo los nodos\"\"\"\n",
    "    grafico = Graficar(G,solo_nodos=True)\n",
    "    grafico.title(\"Representacion Completa Solo Nodos\")\n",
    "    grafico.savefig(\"representacion_completa_solo_nodos.png\")\n",
    "    grafico.show()\n",
    "    flow_to_xlsx(flowDict,\"Resultado.xlsx\")\n",
    "    #guarda el resultado en el archivo resultado.txt\n",
    "    with open('resultado.txt', 'w') as outfile:\n",
    "        json.dump(flowDict, outfile)\n",
    "    return flowDict"
   ]
  },
  {
   "cell_type": "markdown",
   "metadata": {},
   "source": [
    "Se llama a la función grafico_pfmc() para que se ejecute."
   ]
  },
  {
   "cell_type": "code",
   "execution_count": null,
   "metadata": {},
   "outputs": [],
   "source": [
    "if __name__ != '__main__':\n",
    "    grafico_pfmc()"
   ]
  },
  {
   "cell_type": "markdown",
   "metadata": {},
   "source": [
    "Se llama a la función resolver_pfmc() para que se ejecute."
   ]
  },
  {
   "cell_type": "code",
   "execution_count": null,
   "metadata": {},
   "outputs": [],
   "source": [
    "if __name__ == '__main__':\n",
    "    resolver_pfmc(\"matriz_abastecimiento30x70.txt\",\n",
    "                    \"matriz_encuentro50x70.txt\",\n",
    "                    \"costos_transporte30x50.txt\",\n",
    "                    \"costos_inventario30.txt\")"
   ]
  }
 ],
 "metadata": {
  "kernelspec": {
   "display_name": "Python 3",
   "language": "python",
   "name": "python3"
  },
  "language_info": {
   "codemirror_mode": {
    "name": "ipython",
    "version": 3
   },
   "file_extension": ".py",
   "mimetype": "text/x-python",
   "name": "python",
   "nbconvert_exporter": "python",
   "pygments_lexer": "ipython3",
   "version": "3.7.4"
  }
 },
 "nbformat": 4,
 "nbformat_minor": 4
}
