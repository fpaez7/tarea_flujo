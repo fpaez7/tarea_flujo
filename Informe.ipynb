{
 "cells": [
  {
   "cell_type": "markdown",
   "metadata": {},
   "source": [
    "# Tarea 1 Grupo 24\n",
    "\n",
    "###### Francisco Paez\n",
    "###### Catalina Blanco\n",
    "###### Diego Di Battista\n",
    "\n"
   ]
  },
  {
   "cell_type": "markdown",
   "metadata": {},
   "source": [
    "En el siguiente informe analizaremos dos problemas relacionados con la pandemia de COVID-19 que, en la actualidad, azota a todo el mundo, enfocándonos en nuestros algoritmos para obtener las soluciones y en el por qué usamos cada parte del algoritmo.\n",
    "El primer problema trata del modelo de contagio del virus, en el cual usamos bases de datos de distintos tamaños con instancias de individuos y las reuniones interpersonales en las que interactuaban cada día, y para las probabilidades de contagio de cada persona en ellas. En el problema simulamos la escalabilidad de los contagios, dados los parámetros de probabilidad de contagio y las instancias dadas de reuniones entre personas. También ilustramos graficamente curvas cumulativas tanto de contagios, recuperados y enfermos para cada día de la simulación. Seguido de eso, analizamos la eficiencia de nuestro algoritmo y lo pusimos a prueba haciendo un número de simulaciones para así obtener probabilidades frecuentistas de contagio, usando distintos datos en cada una (cambiando la semilla de simulación).\n",
    "\n",
    "El segundo problema habla del abastecimiento y distribución provocado por las restricciones interpersonales que se han impuesto para poder frenar este virus. **(ACÁ FALTA DESCRIBIR EL SEGUNDO PROBLEMA, LO HAGO DESPUÉS)**\n",
    "\n",
    "En la primera parte del informe, hablaremos del primer problema, del contagio, donde explicaremos los archivos secundarios del código, con sus funciones y estructuras de datos, y después pasaremos al archivo principal, en el que mostrareros mostraremos las librerías utilizadas, analizaremos la complejidad del algoritmo y resultados obtenidos a partir de lo requerido en el enunciado.\n"
   ]
  },
  {
   "cell_type": "markdown",
   "metadata": {},
   "source": [
    "# Parte 1 \n",
    "\n",
    "## Archivos secundarios\n"
   ]
  },
  {
   "cell_type": "markdown",
   "metadata": {},
   "source": [
    "En primer lugar se nos fue entregada la funcion **simulation_parameters()** que nos entregará la cantidad de días que tienen que pasar para que una persona que se enfermó con el virus, vuelva a estar completamente sana. También nos dice los días que demora en darse cuenta que está infectada, es decir, la cantidad de días que es vector de contagio y no lo sabe, por lo que sigue teniendo reuniones con otras personas, pudiendo infectarlas. Por último, nos entrega **contagios** que es una especie de dado para poder trabajar como variable aleatoria la probabilidad de contagio de cada persona en cada día.\n",
    "Nosotros como grupo, creemos que esta función es un tanto ineficiente, ya que nos da un nuevo número de probabilidad de contagio para cada persona cada día, aun cuando estas personas podrían no tener una reunión aquella jornada, por lo que nos da datos inútiles. Sin embargo, no es un problema para el código dado que lo tuvimos en cuenta en el orden y tampoco es un problema en términos de memoria por el tamaño de las instancias."
   ]
  },
  {
   "cell_type": "code",
   "execution_count": null,
   "metadata": {},
   "outputs": [],
   "source": [
    "from random import seed, random\n",
    "from numpy.random import poisson, negative_binomial\n",
    "from numpy.random import seed as npseed\n",
    "\n",
    "\n",
    "\n",
    "def simulation_parameters(total, delta_t,s):\n",
    "    seed(s)\n",
    "    npseed(s)\n",
    "    r_p = {i: poisson(15) for i in range(total)} # El tiempo de recuperacion\n",
    "    c_p = {i: min(r_p[i], negative_binomial(6,0.5)) for i in range(total)} # Tiempo en que se da cuenta\n",
    "    contagios = {t: {i: random() for i in range(total)} for t in range(delta_t + 1)}\n",
    "\n",
    "    return r_p, c_p, contagios\n",
    "### es ineficiente, porque nos da el numero de probabilidad de que se contagie en cada día aunque no se reunan (son numeros inuyiles)\n",
    "## que no es tan importante, pero lo tuvimos en cuenta para el orden"
   ]
  },
  {
   "cell_type": "markdown",
   "metadata": {},
   "source": [
    "Creamos la clase ```Persona```, que toma como parámetros el *id* de la persona, es decir, el número para identificarla, y su probabilidad de contagio dada en la base de datos de las personas. Como atributos de esta clase hicimos el atributo *id*, que está dado por su parámetro homónimo, también hicimos el atributo **.\\_probabilidad_contagio** que al igual que *id* solamente viene dado por el parámetro. Creamos los atributos estado, días de recuperacón y días de síntoma para ```Persona```.\n",
    "* **Estado:** describe el estado de salud de cada persona. Inicia siempre con *S* que significa que todos comienzan sanos, pero pueden haber cambios de estado debido a los contagios y avances del virus en cada persona, tema que se explicará más adelante. \n",
    "* **Días de recuperación (.\\_dias_recuperacion):** es una cuenta regresiva que representa cuántos días quedan para que el infectado vuelva a estar sano. Inicia siempre en 0, debido a que, como dijimos antes, todos comienzan sanos. Vale decir que este atributo cambia de valor cuando se contagia. \n",
    "* **Días de síntomas (.\\_dias_sintomas):** también es una cuenta regresiva que al igual que la anterior se inicializa en 0 por la misma razón y solo se cambia el valor cuando la persona se infecta. Sin embargo, esta representa los días restantes para que la persona comience a presentar síntomas, es decir, que no solamente sea un vector de contagio, sino que pase a ser debidamente un infectado (y en la situación comience a restarse de las reuniones).\n",
    "\n",
    "A continuación se definen las propiedades de la clase ```Persona```, las cuales manejan los cambios de estado de cada persona, es decir, son funciones que van cambiando automáticamente las condiciones de cada atributo de ```Persona```. Modifican la situación de cada instancia persona dadas las condiciones, como por ejemplo desde _S_, que significa que esta sano a _A_ , que sería que este con el virus y esté asintomático, es decir que sea un vector, que luego pase a _E_ que nos dice que ahora sí presenta sintomas, o sea que está enfermo, y que pasen los días y pase a tener como estado _R_ o _M_ que significaría que esta recuperado o muerto respectivamente. Como grupo, agregamos el estado muerto para darle realidad al problema, ya que se está obviando una posibilidad muy real y no debería pasarse por alto.\n",
    "\n",
    "En esto se evidencia la ventaja de usar Programación Orientada a Objetos (Clases), en que son moldeables, es muy fácil de cambiar estados, clasificarlos y de agregar todo tipo de información de manera ordenada, a diferencia de otras estructuras de datos que son inmutables o más complicadas de acceder a datos, como las tuplas y las listas respectivamente. Además, el uso de memoria de la clase es pequeño, ya que al ser 5 atributos por persona, su memoria es O(5 × _n_), siendo _n_ el número de personas.\n",
    "\n",
    "Luego creamos dos metodos, **contacto** y **pasar_dia**. El primero, se usa para cuando una persona sana se enfrenta a un posible contagio, como tener contacto con otra persona que es vector de contagio, y consiste en una especie de tirar el dado para crear una variable aleatoria , dejando la posibilidad de contagio como un evento azaroso. En el caso de que sí se contagie, se actualiza el estado de esa persona y las cuentas regresivas se ajustan según sus propios días de recuperacion y días hasta que tenga síntomas. El segundo método de pasar día, solamente se ejecuta en personas que estén enfermas o asintomáticas y no con las sanas o muertas con el fin de no correr la función de manera innecesaria. Y lo que hace es simplemente pasar un día, es decir actualizar las cuentas regresivas que tenga, como si hubiera pasado un día.\n"
   ]
  },
  {
   "cell_type": "code",
   "execution_count": 1,
   "metadata": {},
   "outputs": [],
   "source": [
    "class Persona:\n",
    "    def __init__(self,id,probabilidad_contagio):\n",
    "        self._id = id \n",
    "        self._probabilidad_contagio = probabilidad_contagio #probabilidad de contagio inicial de cada persona\n",
    "        self.estado = \"S\" # S: sano; A asintomatico; E enfermo ; M muerto ; R recuperado\n",
    "        self._dias_recuperacion = 0 #cuenta regresiva a recuperacion, se inicializan en 0 porque al principio no saben si tienen la enfermedad\n",
    "        self._dias_sintomas = 0 #cuenta regresiva a presentar sintomas\n",
    "    @property\n",
    "    def dias_recuperacion(self):  # manejan los cambios de estado (todas las propertys @)\n",
    "        return self._dias_recuperacion\n",
    "    @dias_recuperacion.setter\n",
    "    def dias_recuperacion(self, a):\n",
    "        if(a <= 0):\n",
    "            self._dias_recuperacion = 0\n",
    "            self.estado = \"R\"\n",
    "        self._dias_recuperacion = a\n",
    "    @property\n",
    "    def dias_sintomas(self):\n",
    "        return self._dias_sintomas\n",
    "    @dias_sintomas.setter\n",
    "    def dias_sintomas(self, a):    #dias hasta que empiezan a tener sintomas\n",
    "        if(a <= 0):\n",
    "            self._dias_sintomas = 0\n",
    "            self.estado = \"E\"                    #usamos clases por facilidad de modificar y clasificar estados, agregar todo tipo de informacion\n",
    "        self._dias_sintomas = a\n",
    "    def contacto(self,dado,dias_recuperacion,dias_sintomas):        #dado es para ver si se contagio o no, dado el numero del dado\n",
    "        if self.estado == \"S\" and dado <= self._probabilidad_contagio:\n",
    "            self.estado = \"A\"\n",
    "            self._dias_recuperacion = dias_recuperacion\n",
    "            self._dias_sintomas = min(dias_sintomas, dias_recuperacion)\n",
    "\n",
    "    def pasar_dia (self):\n",
    "        if self.estado in [\"A\",\"E\"]:                 #solo afecta si estas asintomatico o enfermo, sino estas sano o muerto, no afecta\n",
    "            if self.estado == \"A\":\n",
    "                self.dias_sintomas -= 1\n",
    "            self.dias_recuperacion -= 1\n",
    "\n",
    "    def __repr__(self):                     #los dos para que se vea bonito\n",
    "        return self.estado+str(self._id)\n",
    "    def __str__(self):\n",
    "        if self.estado == \"S\":\n",
    "            return f\"Soy {self._id}, estoy Sano, P contagio {self._probabilidad_contagio}\"\n",
    "        if self.estado == \"A\":\n",
    "            return f\"Soy {self._id}, estoy Asintomatico,sintomas:{self._dias_sintomas}, recuperacion {self._dias_recuperacion}\"\n",
    "        if self.estado == \"E\":\n",
    "            return f\"Soy {self._id}, estoy Enfermo, recuperacion {self._dias_recuperacion}\"\n",
    "        if self.estado == \"R\":\n",
    "            return f\"Soy {self._id}, estoy Recuperado \""
   ]
  },
  {
   "cell_type": "markdown",
   "metadata": {},
   "source": [
    "Se nos pide crear la funcion **graficar_infectados** a la cual le entregamos un diccionario con los números de contagiados en cada día y los números de recuperados e infectados hasta la fecha. Nos retorna un gráfico con las curvas que generaron estos datos por día y también guarda este gráfico como un archivo *.png*."
   ]
  },
  {
   "cell_type": "code",
   "execution_count": 2,
   "metadata": {},
   "outputs": [],
   "source": [
    "#Codigo_Graficos.py\n",
    "import matplotlib.pyplot as plt\n",
    "import numpy as np\n",
    "\n",
    "\n",
    "def graficar_infectados(diccionario):\n",
    "    cantidad_casos_totales = diccionario[\"it\"]   #it es infectados totales\n",
    "    cantidad_casos_recuperados = diccionario[\"r\"] #recueprados\n",
    "    cantidad_casos_actuales = diccionario[\"i\"] #infectados actuales\n",
    "    x = diccionario[\"t\"]   # dia\n",
    "    plt.plot(x, cantidad_casos_actuales,label= 'casos actuales')\n",
    "    plt.plot(x, cantidad_casos_recuperados, label= 'casos recuperados')\n",
    "    plt.plot(x, cantidad_casos_totales, label= 'casos totales')\n",
    "    plt.ylabel('Cantidad de infectados')\n",
    "    plt.xlabel('Días')\n",
    "    plt.title(\"Infectados en función del tiempo\")\n",
    "\n",
    "    plt.legend(loc=0)\n",
    "    plt.savefig(\"grafico_infectados.png\")\n",
    "    mostrar=plt.show()\n",
    "    return mostrar"
   ]
  },
  {
   "cell_type": "markdown",
   "metadata": {},
   "source": [
    "# Main script \n",
    "## Librerias Y VERBOSIDAD\n",
    "\n",
    "\n",
    "En cuanto a las librerías, las comentadas no son necesarias en jupyter notebook porque ya se ejecutaron las celdas.\n",
    "Si verboso es ```True``` se imprimirán cosas en la consola, sino no se irán imprimiendo las simulaciones."
   ]
  },
  {
   "cell_type": "code",
   "execution_count": 3,
   "metadata": {},
   "outputs": [],
   "source": [
    "from collections import defaultdict          #para ordenarse en los momentos de reunion\n",
    "#from personas import Persona                #clase creada, mencionada en la celda anterior\n",
    "#from simulation_parameters import simulation_parameters    #para llamar a la funcion simulation_parameters\n",
    "#from Codigo_Graficos import graficar_infectados            #para llamar a la funcion\n",
    "import os  #https://stackoverflow.com/questions/7165749/open-file-in-a-relative-location-in-python\n",
    "import re  #https://stackoverflow.com/questions/1249388/removing-all-non-numeric-characters-from-string-in-python\n",
    "import copy  #https://www.geeksforgeeks.org/copy-python-deep-copy-shallow-copy/\n",
    "import time  #medir los tiempos tiempos de simulacion, para medir la eficienci\n",
    "VERBOSIDAD = 1 # 0 es no imprimir nada, 1 minimo (recomendado), 2 es imprimir lo basico  , 3 es imprimir los detalles"
   ]
  },
  {
   "cell_type": "markdown",
   "metadata": {},
   "source": [
    "Para poder modelar la evolución temporal del contagio en la red, tuvimos que crear un grafo organizándolo de la siguiente manera: \n",
    "* El conjunto de nodos iba a corresponder a cada persona cada día, siendo un nodo la persona 1 el día 1, otro nodo esa misma persona el día 2, puesto que sus parámetros cambiaban y sus relaciones dependían del espacio temporal en el cual se ubicaba (las reuniones se hacían un día especifico). \n",
    "* El conjunto de los arcos iba a corresponder a las reuniones entre las personas en cada día: Cada persona se unía con si misma al día siguiente, de manera dirigida, porque el arco dirigido en las reuniones tiene un significado de sentido en la enfermedad, es decir, si la persona 1 tiene el virus y la 2 no, es 1 quien contagia a 2, y no al revés. Además, en el eje del tiempo es más intuitivo el por qué de la dirección del arco, pero este fin radica en ordenar la evolución temporal de la enfermedad y que no se pueda mirar de forma alguna tal que alguien que estaba enfermo el día 2 contagió a una persona el día 1. \n",
    "\n",
    "\n",
    "En fin, se puede ver gráficamente esto como un plano cartesiano donde las coordenadas de cada nodo son *(t,n)* donde *t* es el día y *n* el id de la persona. Los arcos unen a las personas que se juntaron ese día. El arco temporal une *(t,n)* con *(t+1,n)* .\n",
    "\n",
    "Modelar los arcos de esta forma, nos lleva a ahorrar mucho en términos de memoria en el código, ya que almacenamos las reuniones de manera más eficiente. \n",
    "\n",
    "Tomemos el ejemplo de que se juntan las personas 1, 2 y 3 el día 1, entonces si se uniera cada persona presente en la reunión entre sí, ocuparíamos 6 arcos en describir esa reunión: *((1,1),(1,2)),((1,1),(1,3)),((1,2),(1,1)),((1,2),(1,3)),((1,3),(1,1)),((1,3),(1,2))*. En cambio, si lo almacenamos en sets, tiene una memoria constante y el set sería solamente ((1,1),(1,2),(1,3)), lo que sería comparar un almacenamiento de orden O(n!) con uno de orden O(n × t), respectivamente.\n",
    "\n",
    "En el código implementamos, tal como nos pedían, la función **crear_grafo** a la que le damos los archivos de las reuniones y de las personas y nos retorna el conjunto de nodos y de arcos, es decir, nos retorna el grafo."
   ]
  },
  {
   "cell_type": "code",
   "execution_count": 4,
   "metadata": {},
   "outputs": [
    {
     "ename": "FileNotFoundError",
     "evalue": "[Errno 2] No such file or directory: 'Instancias/reuniones_1500.txt'",
     "output_type": "error",
     "traceback": [
      "\u001b[0;31m---------------------------------------------------------------------------\u001b[0m",
      "\u001b[0;31mFileNotFoundError\u001b[0m                         Traceback (most recent call last)",
      "\u001b[0;32m<ipython-input-4-6b1767f82a95>\u001b[0m in \u001b[0;36m<module>\u001b[0;34m\u001b[0m\n\u001b[1;32m     30\u001b[0m \u001b[0mpersonas\u001b[0m \u001b[0;34m=\u001b[0m \u001b[0mos\u001b[0m\u001b[0;34m.\u001b[0m\u001b[0mpath\u001b[0m\u001b[0;34m.\u001b[0m\u001b[0mjoin\u001b[0m\u001b[0;34m(\u001b[0m\u001b[0mscript_dir\u001b[0m\u001b[0;34m,\u001b[0m \u001b[0;34mf\"Instancias/personas_{CODIGO}.txt\"\u001b[0m\u001b[0;34m)\u001b[0m     \u001b[0;31m#aca se crea el grafo (incluyendo las siguientes 3 lineas)\u001b[0m\u001b[0;34m\u001b[0m\u001b[0;34m\u001b[0m\u001b[0m\n\u001b[1;32m     31\u001b[0m \u001b[0mreuniones\u001b[0m \u001b[0;34m=\u001b[0m \u001b[0mos\u001b[0m\u001b[0;34m.\u001b[0m\u001b[0mpath\u001b[0m\u001b[0;34m.\u001b[0m\u001b[0mjoin\u001b[0m\u001b[0;34m(\u001b[0m\u001b[0mscript_dir\u001b[0m\u001b[0;34m,\u001b[0m \u001b[0;34mf\"Instancias/reuniones_{CODIGO}.txt\"\u001b[0m\u001b[0;34m)\u001b[0m\u001b[0;34m\u001b[0m\u001b[0;34m\u001b[0m\u001b[0m\n\u001b[0;32m---> 32\u001b[0;31m \u001b[0mgrafo\u001b[0m \u001b[0;34m=\u001b[0m \u001b[0mcrear_grafo\u001b[0m\u001b[0;34m(\u001b[0m\u001b[0mpersonas\u001b[0m\u001b[0;34m,\u001b[0m\u001b[0mreuniones\u001b[0m\u001b[0;34m)\u001b[0m\u001b[0;34m\u001b[0m\u001b[0;34m\u001b[0m\u001b[0m\n\u001b[0m",
      "\u001b[0;32m<ipython-input-4-6b1767f82a95>\u001b[0m in \u001b[0;36mcrear_grafo\u001b[0;34m(personas, reuniones)\u001b[0m\n\u001b[1;32m      4\u001b[0m     lista con los sets con los id de las personas que se juntaron \"\"\"\n\u001b[1;32m      5\u001b[0m     \u001b[0mdata_reuniones\u001b[0m \u001b[0;34m=\u001b[0m \u001b[0mdefaultdict\u001b[0m\u001b[0;34m(\u001b[0m\u001b[0mlist\u001b[0m\u001b[0;34m)\u001b[0m\u001b[0;34m\u001b[0m\u001b[0;34m\u001b[0m\u001b[0m\n\u001b[0;32m----> 6\u001b[0;31m     \u001b[0;32mwith\u001b[0m \u001b[0mopen\u001b[0m \u001b[0;34m(\u001b[0m\u001b[0mreuniones\u001b[0m\u001b[0;34m)\u001b[0m \u001b[0;32mas\u001b[0m \u001b[0mfile\u001b[0m\u001b[0;34m:\u001b[0m\u001b[0;34m\u001b[0m\u001b[0;34m\u001b[0m\u001b[0m\n\u001b[0m\u001b[1;32m      7\u001b[0m         \u001b[0mlinea\u001b[0m \u001b[0;34m=\u001b[0m \u001b[0mfile\u001b[0m\u001b[0;34m.\u001b[0m\u001b[0m__next__\u001b[0m\u001b[0;34m(\u001b[0m\u001b[0;34m)\u001b[0m\u001b[0;34m\u001b[0m\u001b[0;34m\u001b[0m\u001b[0m\n\u001b[1;32m      8\u001b[0m     \u001b[0minter\u001b[0m \u001b[0;34m=\u001b[0m \u001b[0mlinea\u001b[0m\u001b[0;34m.\u001b[0m\u001b[0msplit\u001b[0m\u001b[0;34m(\u001b[0m\u001b[0;34m\"({\"\u001b[0m\u001b[0;34m)\u001b[0m         \u001b[0;31m#lee la base de datos\u001b[0m\u001b[0;34m\u001b[0m\u001b[0;34m\u001b[0m\u001b[0m\n",
      "\u001b[0;31mFileNotFoundError\u001b[0m: [Errno 2] No such file or directory: 'Instancias/reuniones_1500.txt'"
     ]
    }
   ],
   "source": [
    "#archivo main.py\n",
    "def crear_grafo ( personas, reuniones):\n",
    "    \"\"\" Crea un default diccionario donde las llaves son los dias y los elementos son una\n",
    "    lista con los sets con los id de las personas que se juntaron \"\"\"\n",
    "    data_reuniones = defaultdict(list)\n",
    "    with open (reuniones) as file:    \n",
    "        linea = file.__next__()       \n",
    "    inter = linea.split(\"({\")         #lee la base de datos\n",
    "\n",
    "    for i in range(1,len(inter)):\n",
    "        parcial = set(map(int,inter[i].split(\"}\")[0].split(\", \")))    #usamos sets porque es mas eficiente la busqueda, facilita todo\n",
    "        dia = int(re.sub(\"[^0-9]\", \"\",inter[i].split(\"}\")[1] ))       \n",
    "        data_reuniones[dia].append(parcial)\n",
    "    #reuniones son los arcos\n",
    "    #cantidad de dia desde la infeccion que su estado de Enfermos con Sintomas\n",
    "    \"\"\" Crea un diccionario donde las llaves son las id y los elementos son instancias de la clase personas\"\"\"\n",
    "    data_personas = dict()    #no es defaultdict porque no tiene sentido preguntar por personas que no existen (gigo)\n",
    "    with open (personas) as file:   #fue un diccionario en vez de una lista, porque al principio estaba  desordenado y ahora no, pero ya esta hecho\n",
    "        linea = file.__next__().strip(\"{}\")\n",
    "    inter = linea.split(\", \")\n",
    "    for i in inter:\n",
    "        persona = i.split(\":\")\n",
    "        id = int(persona[0])\n",
    "        data_personas[id]= Persona(id,float(persona[1]))   #aca se guardo en cada nodo, una instancia para cada persona\n",
    "    return (data_personas,data_reuniones)\n",
    "\n",
    "# aca va el codigo de la funcion\n",
    "script_dir = os.path.dirname(\"Informe.ipynb\") #<-- absolute dir the script is in\n",
    "CODIGO = 1500 #Cantidad de pacientes\n",
    "personas = os.path.join(script_dir, f\"Instancias/personas_{CODIGO}.txt\")     #aca se crea el grafo (incluyendo las siguientes 3 lineas)\n",
    "reuniones = os.path.join(script_dir, f\"Instancias/reuniones_{CODIGO}.txt\")\n",
    "grafo = crear_grafo(personas,reuniones)  "
   ]
  },
  {
   "cell_type": "markdown",
   "metadata": {},
   "source": [
    "En esta sección implementamos la función **determinar_contagiados** que recibe nuestro gráfico hecho con la función **crear_grafo**, el *id* del primer infectado, y el número de días transcurridos. Esta función trabaja usando sets que tiene como elementos a las personas posiblemente contagiadas. Usa métodos de los sets como **.add** , **.union**,los cuales tienen una complejidad de O(Log n), y **.intersection** que tiene un orden de complejidad de O(n), además de buscar dentro del mismo set, que tiene O(1); por lo que la función es de orden lineal, lo que la hace bastante eficiente.\n",
    "\n",
    "El caso que causaría más ineficiencia en la función (y en cualquier otra función del código) es el caso en el que todas las personas se juntaran todos los días sin descanso, ya que elevaría muchísimo la cantidad de memoria y el tiempo de ejecución del programa aletarandolo definitivamente."
   ]
  },
  {
   "cell_type": "code",
   "execution_count": null,
   "metadata": {},
   "outputs": [],
   "source": [
    "#archivo main.py\n",
    "\n",
    "#bastante efciciente creo que el peor caso seria si todas las personas se juntaran todos los dias\n",
    "def determinar_contagiados(grafo, p0 ,delta_dias):\n",
    "    #grafo es un grafo formado por la estructura de la funcion crear_grafo\n",
    "    #p0 es in integer con el indice del paciente 0\n",
    "    #delta_dias número de días transcurridos\n",
    "    posibles = set()\n",
    "    posibles.add(p0)\n",
    "    data_reuniones = grafo[1]\n",
    "    for t in range (0,delta_dias+1):\n",
    "        if VERBOSIDAD>1:\n",
    "            print(f\"POSIBLES al principio del DIA {t}\",posibles)\n",
    "        for reunion in data_reuniones[t]:\n",
    "            if posibles.intersection(reunion):\n",
    "                posibles = posibles.union(reunion)\n",
    "                if VERBOSIDAD > 3:\n",
    "                    print(F\"Reunion infectada DIA{t}:\",reunion, \"culpables:\",posibles.intersection(reunion))\n",
    "    if VERBOSIDAD > 1:\n",
    "        print(F\"\\n POSIBLES al final del dia {t}\",posibles)\n",
    "    return posibles\n",
    "\n",
    "#acá se debería correr la función\n",
    "script_dir = os.path.dirname(\"Informe.ipynb\") #<-- absolute dir the script is in\n",
    "CODIGO = 1500 #Cantidad de pacientes\n",
    "personas = os.path.join(script_dir, f\"Instancias/personas_{CODIGO}.txt\")     #aca se crea el grafo (incluyendo las siguientes 3 lineas)\n",
    "reuniones = os.path.join(script_dir, f\"Instancias/reuniones_{CODIGO}.txt\")\n",
    "grafo = crear_grafo(personas,reuniones)\n",
    "p0 = 33 #paciente original\n",
    "delta_dias = 7 # Cantidad de dias\n",
    "determinar_contagiados(grafo,p0,delta_dias)"
   ]
  },
  {
   "cell_type": "markdown",
   "metadata": {},
   "source": [
    "Ahora se nos pide simular los contagios desde el paciente cero (primer enfermo) de dos instancias del problema, pero para ello debemos crear la función **simular_contagio**, la cual recibe el grafo hecho en la parte anterior, el id del paciente cero, el número de días que transcurren en la simulación y la semilla de simulación. En esta usamos la función dada al inicio **simulation_parameters** para tener los parámetros de cada ```Persona```, y utilizando nuevamente sets para los asintomáticos o vectores, para los infectados y para los recuperados, en los cuales vamos agregando a los que entran en ese estado cada día y sacando los que se cambian de estado. La razón por la que utilizamos sets es que tienen una complejidad sumamente baja el revisarlos. De sus métodos el más ineficiente que se usa es **.intersection** que tiene una complejidad de O(len(set)), como hemos mencionado anteriormente.\n",
    "\n",
    "Es en esta función donde está la verdadera fuente de ineficiencia del código, porque tiene que revisar a todas las personas, con sus atributos, todos los días, lo cual tiene una complejidad de O(n × t). Se podría llevar la cuenta de cambios de estado de cada persona con sumas y restas, y así tener también los estados de cada persona a cada momento, pero así perderíamos la moldeabilidad que nos da la POO, la posibilidad de escalar y proyectar el problema y de poder añadir características y más realidad al problema, tales como relaciones más complejas. Por ejemplo, que dos personas vivan en la misma casa, que hayan más enfermedades, que exista la probabilidad de muerte del infectado, entre muchas otras opciones de escalabilidad en una situación real. Todo eso se puede gracias a estamos tratando un objeto, en vez de una sola variable que podria ser un estado asociado a un número, como por ejemplo *S = 0*. Sin embargo, esta función sigue siendo la fuente de ineficiencia del código, por lo que en el caso de que se quisiera mejorar su eficiencia, es esta la sección que se debe trabajar.\n",
    "\n",
    "En la simulación, el programa nos va entregando la cantidad de infectados (\"Inf:\"), la cantidad de vectores (\"-Vect:\") y el número de personas recuperadas (\"-Rec:\") por cada día de simulación y los datos de cada día se van guardando en listas, para que queden ordenados cronológicamente, luego se itera en cada reunión y se ejecuta la probabilidad de contagio (como mencionamos antes, similar a tirar un dado, con respecto al número de probabilidad asignado a esa persona). Luego, según el estado de cada persona se va agregando a un set para ir mostrando a medida que avanza la simulación y se crean diccionarios a partir de las listas creadas, para que sirvan de parámetros a la función **graficar_infectados**.\n",
    "\n",
    "Luego, se procede a realizar las dos simulaciones que se piden en el enunciado, una para las instancias dadas en *personas_15000.txt* y *reuniones_15000.txt* y otra para las instancias dadas en *personas_1500.txt* y *reuniones_1500.txt* donde se simula la situación con la función recién descrita y luego se grafican las curvas cumulativas de contagios, de recuperados y de infectados a cada día, con la función también descrita anteriormente, **graficar_infectados**.\n"
   ]
  },
  {
   "cell_type": "code",
   "execution_count": null,
   "metadata": {},
   "outputs": [],
   "source": [
    "def simular_contagio( grafo, p0, delta_dias, s):\n",
    "    #vectores = infectados actuales \n",
    "    data_personas = grafo[0]           # primer elemento del grafo (los nodos)\n",
    "    data_reuniones = grafo[1]          # segundo\n",
    "    \"Se simulan los parametros necesarios para cada persona\"\n",
    "    parametros = simulation_parameters(len(data_personas),delta_dias,s)\n",
    "    dias_recuperacion = parametros[0]\n",
    "    dias_sintomas = parametros[1]\n",
    "    contagios = parametros[2]\n",
    "    vectores = set()        #los que pueden contagiar\n",
    "    vectores.add(p0)\n",
    "    infectados = set()\n",
    "    infectados.add(p0)\n",
    "    recuperados = set()\n",
    "\n",
    "    data_personas[p0].contacto(0,dias_recuperacion[p0] , dias_sintomas[p0])  ##inicilizar el tiempo para p0 con sus contadores\n",
    "    datos_infectados = []\n",
    "    datos_recuperados = []\n",
    "    datos_it = []\n",
    "    dias = []\n",
    "\n",
    "    for t in range (0,delta_dias+1):\n",
    "        if VERBOSIDAD > 1:\n",
    "            print(f\"Comienza DIA {t}\")\n",
    "            print(\"Inf:\",len(infectados),\"-Vect:\",len(vectores),\"-Rec:\",len(recuperados))\n",
    "        datos_infectados.append(len(infectados))\n",
    "        datos_recuperados.append(len(recuperados))\n",
    "        datos_it.append(len(recuperados)+len(infectados))     #guardando los datos de cada dia para ponerlos en el grafico\n",
    "        dias.append(t)\n",
    "        for reunion in data_reuniones[t]:\n",
    "            culpables = vectores.intersection(reunion) #son los que infectaron la reunion, que tiene complejidad O(len(reunion))\n",
    "            if culpables:                             #si es que existen culpables, que es lo mismo que decir len(culpables)>0            \n",
    "                for posible_contagiado in reunion - culpables:       # sacamos los elementos iguales\n",
    "                    id = posible_contagiado\n",
    "                    if id not in recuperados and id not in infectados:   # si no esta en ninguno de los dos, esta sano\n",
    "                        data_personas[id].contacto(contagios[t][id],dias_recuperacion[id] , dias_sintomas[id])  # ese contagios da el numero del dado\n",
    "       \n",
    "        ##########################################################\n",
    "        ##### VERDADERA FUENTE DE INEFICIENCIA DEL PROGRAMA ######\n",
    "        ##########################################################\n",
    "        # porque iteramos sobre todas las personas todos los dias O(n*t)   n:cantidad personas, t: cantidad de días\n",
    "        # si queremos mejorar la eficiencia del codigo, esto es lo que hay que mejorar\n",
    "        infectados = set()\n",
    "        vectores = set()\n",
    "        recuperados = set()\n",
    "        for i in range(0,len(data_personas)):                   \n",
    "            data_personas[i].pasar_dia()\n",
    "            if data_personas[i].estado == \"A\":\n",
    "                vectores.add(i)\n",
    "                infectados.add(i)\n",
    "            elif data_personas[i].estado == \"E\":\n",
    "                infectados.add(i)\n",
    "            elif data_personas[i].estado == \"R\":\n",
    "                recuperados.add(i)\n",
    "            elif data_personas[i].estado == \"S\":\n",
    "                pass\n",
    "            else:\n",
    "                print(\"ERROR ESTADO ANOMALO\")\n",
    "    if VERBOSIDAD:\n",
    "        print(f\"Fin del DIA {t}\")\n",
    "        print(\"Inf:\",len(infectados),\"-Vect:\",len(vectores),\"-Rec:\",len(recuperados))\n",
    "    return infectados,recuperados,{\"t\":dias,\n",
    "            \"i\":datos_infectados,\n",
    "            \"it\":datos_it,\n",
    "            \"r\":datos_recuperados}\n",
    "\n",
    "\n",
    "VERBOSIDAD = 1\n",
    "script_dir = os.path.dirname(\"Informe.ipynb\") #<-- absolute dir the script is in\n",
    "CODIGO = 1500 #Cantidad de pacientes\n",
    "personas = os.path.join(script_dir, f\"Instancias/personas_{CODIGO}.txt\")     #aca se crea el grafo (incluyendo las siguientes 3 lineas)\n",
    "reuniones = os.path.join(script_dir, f\"Instancias/reuniones_{CODIGO}.txt\")\n",
    "grafo = crear_grafo(personas,reuniones)\n",
    "p0 = 33 #paciente original\n",
    "delta_dias = 75 # Cantidad de dias\n",
    "SEED = 6\n",
    "resultados = simular_contagio( grafo, 33, delta_dias, SEED)\n",
    "graficar_infectados(resultados[2])"
   ]
  },
  {
   "cell_type": "code",
   "execution_count": null,
   "metadata": {},
   "outputs": [],
   "source": [
    "VERBOSIDAD = 1\n",
    "script_dir = os.path.dirname(\"Informe.ipynb\") #<-- absolute dir the script is in\n",
    "CODIGO = 15000 #Cantidad de pacientes\n",
    "personas = os.path.join(script_dir, f\"Instancias/personas_{CODIGO}.txt\")     #aca se crea el grafo (incluyendo las siguientes 3 lineas)\n",
    "reuniones = os.path.join(script_dir, f\"Instancias/reuniones_{CODIGO}.txt\")\n",
    "grafo = crear_grafo(personas,reuniones)\n",
    "p0 = 33 #paciente original\n",
    "delta_dias = 68 # Cantidad de dias\n",
    "SEED = 1113 \n",
    "resultados = simular_contagio( grafo, 33, delta_dias, SEED)\n",
    "graficar_infectados(resultados[2])"
   ]
  },
  {
   "cell_type": "markdown",
   "metadata": {},
   "source": [
    "*Dato: pusimos esa semilla, los dias y el paciente cero a nuestro gusto, se pueden cambiar y probar*\n",
    "\n",
    "*Para el análisis usamos p0=33 y seed=1113*\n",
    "\n",
    "Tomando el caso de las instancias 15000 (*personas_15000.txt* y *reuniones_15000.txt*), podemos ver que hay un crecimiento exponencial durante los primeros 15 días (se puede ir haciendo zoom cambiando la cantidad de días en la celda de arriba), y a partir del día 13 aproximadamente, el crecimiento explosivo de infectados actuales empieza a caer, sigue creciendo, pero no de la misma forma, hasta el día 18 aproximadamente que se da el punto crítico, que es el día en el cual hay más casos(11.1140 enfermos y 3706 vectores). Después de ese día la curva de infectados comienza a decrecer de manera abrupta hasta el día 32 aproximadamente, en el que la curva acumulada de infectados tiene pendiente muy pequeña y la curva de recuperados empieza a aplanarse, quedando 2453 infectados y 294 vectores a esa fecha. Finalmente se da por pasada la pandemia al día 68 en el cual ya no quedan ni infectados ni vectores, ya toda la gente que se enfermó debido al virus esta recuperada.\n",
    "\n",
    "De lo anterior podemos concluir que no se tomaron las medidas correctas para frenar el contagio o \"aplanar la curva\", ya que tuvo un pico muy alto y se calmó relativamente rápido. En cambio, en la situación real, el crecimiento ha sido mucho más plano. Aún en Chile se está en la etapa de aumento de casos diarios, por lo que no se ha llegado al punto crítico. Si este caso simulado, se diera en la vida real, los hospitales habrían colapsado hace muchos días y esto sería mucho más caótico de lo que está siendo ahora.\n",
    "\n"
   ]
  },
  {
   "cell_type": "markdown",
   "metadata": {},
   "source": [
    "Por último, en esta parte de la tarea, estimamos la probabilidad de que cada persona se contagie luego de una cierta cantidad de días usando la instancia 1000 (*personas_1500.txt y reuniones_1500.txt*), y calculamos la probabilidad usando la frecuencia de que cada persona se infecta durante esos días en las 1000 distintas simulaciones hechas con semillas distintas. Recordemos que la probabilidad frecuentista es aquella que se obtiene por el cuociente entre el número de casos favorables (veces que se infectó cada persona) y el número de casos totales (número de simulaciones).\n",
    "\n",
    "Para poder hacer este cálculo implementamos la **función probabilidad_contagio** que va haciendo una simulación con el grafo, anota quienes se infectaron sumándole 1 a su \"contador\", que tiene forma de diccionario en el cual el *id* de la persona es la llave y los elementos, inciados en 0, son la cantidad de veces que se ha infectado. Luego cambia de semilla, sobreescribe el grafo y vuelve a iterar, todo esto 1000 veces (en el caso de la tarea, sin embargo, puede variar a gusto de quien lo corra).\n",
    "\n",
    "Esta función tiene una complejidad menor, ya que su complejidad radica en que son 1000 iteraciones y cada iteración depende del número de nodos que tiene el grafo, es decir, el producto entre el número de dias y de personas que se simula. Por esto, tiene una complejidad aproximada de O(s × n × t ), donde s es la cantidad de simulaciones, n es la cantidad de personas y t es la cantidad de días, y esto sigue siendo lineal, ya que, el conjunto de nodos es un nodo por cada persona por dia, *n × t* (según la definición ya descrita en la tarea), y puesto que *s* es una constante, el orden es de constante × cantidad de nodos, que representa un orden lineal, y por ende, eficiente. \n"
   ]
  },
  {
   "cell_type": "markdown",
   "metadata": {},
   "source": [
    "# ADVERTENCIA: Correr esta celda puede demorar un tiempo (5 min aporx) "
   ]
  },
  {
   "cell_type": "code",
   "execution_count": null,
   "metadata": {
    "scrolled": true
   },
   "outputs": [],
   "source": [
    "def probabilidad_contagio(grafo,p0,delta_dias):\n",
    "    Cantidad = len(grafo[0])       #se obtiene la cantidad de personas\n",
    "    SIMULACIONES = 1000\n",
    "    conteos = {i: 0 for i in range(Cantidad)}      #esto crea un diccionario con las llaves siendo el id de la persona, y con todos los elementos en 0\n",
    "    tiempo_simulaciones = 0                        #crea el tiempo para las simulaciones\n",
    "    for s in range (0,SIMULACIONES):               #s es la semilla para poder hacer la cantidad de simulaciones requerida (1000), para tener diferentes semillas\n",
    "        copia_grafo = copy.deepcopy(grafo)         # en vez de crear grafos para cada simulacion, los copiamos y los vamos sobreescribiendo\n",
    "        if VERBOSIDAD:\n",
    "            print(\"-\"*45,f\"SIMUACION SEMILLA: {s}\",\"-\"*45)\n",
    "        t_inicio=time.time()\n",
    "        infectados = simular_contagio(copia_grafo, p0, delta_dias,s)[0]   ##aca da la complejidad del algoritmo que es O(|s|*|Cantidad|)  (cada simulacion se demora lac antidad de dias asi que son lo mismo)\n",
    "        tiempo_simulacion = time.time()-t_inicio\n",
    "        tiempo_simulaciones += tiempo_simulacion        #autoexplicativo\n",
    "        if VERBOSIDAD: # es lo mismo que if verbosidad >=1\n",
    "            print(F\"Tiempo de simulacion{tiempo_simulacion}\")\n",
    "        for i in range(Cantidad):\n",
    "            if i in infectados:\n",
    "                conteos[i] += 1       #en este for, se va actualizando el valor del diccionario, que nos dice cuantas veces se enfermo cada weon\n",
    "    for i in range (0, Cantidad):\n",
    "        conteos[i]= float(conteos[i])/float(SIMULACIONES) #ya esta hecha la division\n",
    "        if conteos[i] and VERBOSIDAD > 1:\n",
    "            print(f\"Pasinte{i}: probabilidad: {conteos[i]}\") #pos simplicidad solo printea los que son distintos de 0 \n",
    "    print(f\"Con {Cantidad} personas y {delta_dias} dias se demora {tiempo_simulaciones}s en hacer {SIMULACIONES} simulaciones\\nPromedio de simulacion{tiempo_simulaciones/SIMULACIONES} s\")\n",
    "    return conteos\n",
    "\n",
    "#acá se debería correr la función\n",
    "script_dir = os.path.dirname(\"Informe.ipynb\") #<-- absolute dir the script is in\n",
    "CODIGO = 1500 #Cantidad de pacientes\n",
    "personas = os.path.join(script_dir, f\"Instancias/personas_{CODIGO}.txt\")     #aca se crea el grafo (incluyendo las siguientes 3 lineas)\n",
    "reuniones = os.path.join(script_dir, f\"Instancias/reuniones_{CODIGO}.txt\")\n",
    "grafo = crear_grafo(personas,reuniones)\n",
    "p0 = 33 #paciente original\n",
    "delta_dias = 75 # Cantidad de dias\n",
    "p0 = 33 #paciente original\n",
    "delta_dias = 22 # Cantidad de dias\n",
    "probabilidades = probabilidad_contagio(grafo,p0,delta_dias)"
   ]
  },
  {
   "cell_type": "code",
   "execution_count": null,
   "metadata": {},
   "outputs": [],
   "source": [
    "probabilidades"
   ]
  },
  {
   "cell_type": "code",
   "execution_count": null,
   "metadata": {},
   "outputs": [],
   "source": [
    "suma_prob=0\n",
    "for i in probabilidades:\n",
    "    suma_prob+=probabilidades[i]\n",
    "prom_prob=suma_prob/1000\n",
    "print(prom_prob)"
   ]
  },
  {
   "cell_type": "markdown",
   "metadata": {},
   "source": [
    "En un primer experimento de simulaciones, usamos 75 días para la simulación, pero como el periodo de tiempo fue tan largo, casi todos los pacientes ya se habían recuperado al finalizar, por lo que las probabilidades calculadas tendían a ser 0 o eran muy bajas en todos las personas. \n",
    "\n",
    "Luego, probamos las simulaciones con un objetivo de 22 días y obtuvimos probabilidades de infección muy distintas a las anteriores, mucho más altas. Esto sucede debido a que en esa fecha se esperaba que se estuviera cerca del pico de casos de infectados. Es más, en promedio la probabilidad de que estuviera infectada cada persona para ese entonces era de 0.7952 (truncado a 4 decimales), lo que si uno extrapola mediante una mirada frecuentista, significa que practicamente el 80% de la población estaría contagiada."
   ]
  },
  {
   "cell_type": "raw",
   "metadata": {},
   "source": [
    "Parte 2:"
   ]
  },
  {
   "cell_type": "code",
   "execution_count": null,
   "metadata": {},
   "outputs": [],
   "source": []
  },
  {
   "cell_type": "code",
   "execution_count": null,
   "metadata": {},
   "outputs": [],
   "source": [
    "import networkx as nx\n",
    "import os #operative system; se usa para abrir los archivos\n",
    "import json  #sistema mas comun para guardar informacion\n",
    "import numpy as np #se usa para trabajar los numeros\n",
    "import matplotlib.pyplot as plt   # libreria utilizada para graficar\n",
    "from mpl_toolkits.mplot3d import Axes3D\n",
    "import matplotlib.ticker as ticker\n",
    "import re #se usa para encontrar xpresiones regulares\n",
    "#https://stackoverflow.com/questions/1249388/removing-all-non-numeric-characters-from-string-in-python\n",
    "import xlsxwriter #https://xlsxwriter.readthedocs.io/tutorial01.html\n",
    "from collections import defaultdict "
   ]
  },
  {
   "cell_type": "markdown",
   "metadata": {},
   "source": [
    "En esta funcion se abren los archivos, los cuales tienen almacenada la informacion en formato json. Ademas, se crean los diccionarios correspondientes, retornandolos, para poder trabajar con la informacion contenida en los archivos."
   ]
  },
  {
   "cell_type": "code",
   "execution_count": null,
   "metadata": {},
   "outputs": [],
   "source": [
    "def abrir (nombre):\n",
    "    script_dir = os.path.dirname(__file__) #<-- absolute dir the script is in\n",
    "    path_archivo = os.path.join(script_dir, nombre)\n",
    "    with open(path_archivo, 'r') as file:\n",
    "        return eval(file.__next__())\n",
    "    return y"
   ]
  },
  {
   "cell_type": "markdown",
   "metadata": {},
   "source": [
    "Esta funcion toma como atributo los diccionarios obtenidos de la funcion anterior. Para crear el grafo se usa la libreria Netkorkx. Se define el nombre del nodo como; el tipo del nodo (\"a\" para abastecimiento o \"e\" para retiro) seguido del id (1,2,3...29 en el caso de nodos de abastecimiento o 1,2,3...49 para nodos de retirno) - \"t\" seguido del numero del periodo (1,2,3...69).   \n",
    "Se debe crear un nodo de sobreoferta, debido a que la libreria solo puede resolver el problema del flujo a costo minimo si la red esta balanceada."
   ]
  },
  {
   "cell_type": "code",
   "execution_count": null,
   "metadata": {},
   "outputs": [],
   "source": [
    "def crear_grafo(dic_abastecimientos,dic_encuentros,dic_transportes, dic_inventarios):\n",
    "    G = nx.DiGraph()\n",
    "    oferta_total = 0\n",
    "    demanda_total = 0\n",
    "    # nodos de abastecimiento son los oferente\n",
    "    for abastero in dic_abastecimientos:\n",
    "        for tiempo in dic_abastecimientos[abastero]:\n",
    "            oferta = dic_abastecimientos[abastero][tiempo]\n",
    "            oferta_total += oferta\n",
    "            G.add_node(f\"{abastero}-{tiempo}\", demand = -oferta)\n",
    "    # nodos de encuentro son los demandantes\n",
    "    for encuentro in dic_encuentros:\n",
    "        for tiempo in dic_encuentros[encuentro]:\n",
    "            demanda = dic_encuentros[encuentro][tiempo]\n",
    "            demanda_total += demanda\n",
    "            G.add_node(f\"{encuentro}-{tiempo}\", demand = demanda)\n",
    "    G.add_node(\"sobreoferta\", demand = oferta_total- demanda_total)\n",
    "    for abastero in dic_abastecimientos:\n",
    "        for tiempo in dic_abastecimientos[abastero]:\n",
    "            G.add_edge(f\"{abastero}-{tiempo}\", \"sobreoferta\", weight = 0)\n",
    "\n",
    "\n",
    "    #creamos los arcos que conectan los puntos de abastecimiento y retiro\n",
    "    for abastero in dic_transportes:\n",
    "        for encuentro in dic_transportes[abastero]:\n",
    "            for tiempo in dic_abastecimientos[abastero]:\n",
    "                costo = dic_transportes[abastero][encuentro][0]\n",
    "                cap = dic_transportes[abastero][encuentro][1]\n",
    "                G.add_edge(f\"{abastero}-{tiempo}\", f\"{encuentro}-{tiempo}\",\n",
    "                            weight = costo, capacity = cap)\n",
    "\n",
    "    #crear el arco de continuidad de inventario\n",
    "    #uniendo todo punto abastero con su antesesor temporal\n",
    "    for abastero in dic_abastecimientos:\n",
    "        t_anterior = False\n",
    "        for tiempo in dic_abastecimientos[abastero]:\n",
    "            if t_anterior:\n",
    "                costo = dic_inventarios[abastero][0]\n",
    "                cap = dic_inventarios[abastero][1]\n",
    "                G.add_edge(f\"{abastero}-{t_anterior}\", f\"{abastero}-{tiempo}\",\n",
    "                        weight = costo, capacity = cap)\n",
    "            t_anterior = tiempo\n",
    "    return G"
   ]
  },
  {
   "cell_type": "markdown",
   "metadata": {},
   "source": [
    "Esta función a partir del nombre del nodo, retorna sus cordenadas (numero del nodo, tiempo del nodo, letra (\"a\" o \"e\"))."
   ]
  },
  {
   "cell_type": "code",
   "execution_count": null,
   "metadata": {},
   "outputs": [],
   "source": [
    "def coordenadas(nodo):\n",
    "    tipo = nodo[0]\n",
    "    nodo = nodo.split(\"-\")\n",
    "    if len (nodo) == 2:\n",
    "        id   = int(re.sub(\"[^0-9]\",\"\",nodo[0] ))\n",
    "        tiempo  = int(re.sub(\"[^0-9]\",\"\",nodo[1] ))\n",
    "    else:\n",
    "        id = 0\n",
    "        tiempo = 0\n",
    "    return id,tiempo,tipo"
   ]
  },
  {
   "cell_type": "code",
   "execution_count": null,
   "metadata": {},
   "outputs": [],
   "source": [
    "Esta es la función pedida en el enunciado, grafica el grafo entregado en el atributo. Ademas, tiene dos atributos optativos, los cuales se usa para graficar cosas \n",
    "especificas. Por ejemplo, si no se otorga un diccionario de flujos (variable dict_flujos) se grafican todos los arcos de la red. En el caso contrario, solo se \n",
    "grafican los arcos definidos en el diccionario.\n"
   ]
  },
  {
   "cell_type": "code",
   "execution_count": null,
   "metadata": {},
   "outputs": [],
   "source": [
    "def Graficar(grafo, dict_flujos = False , solo_nodos = False):\n",
    "    with plt.style.context(\"bmh\"): #estilo del gráfico: por ejemplo probar 'dark_background'\n",
    "        fig = plt.figure(\"Grafo\", figsize=(100, 7)) #Genera una figura\n",
    "        ax = Axes3D(fig) #genera un eje\n",
    "        colores = {'s':'red','a':'magenta','e':\"cyan\"  }\n",
    "        dict_zeta = {'e':0 ,'a':1,'s':2}\n",
    "\n",
    "        #lista de cordenadas de abastecimientos\n",
    "        x_a=[]\n",
    "        y_a=[]\n",
    "        z_a=[]\n",
    "        #lista de cordenadas de encuentros\n",
    "        x_e=[]\n",
    "        y_e=[]\n",
    "        z_e=[]\n",
    "        ## calculamos las cordenadas de todos los nodos\n",
    "        for i in grafo.nodes():\n",
    "            coor = coordenadas(i)\n",
    "            id = coor[0]\n",
    "            tiempo = coor[1]\n",
    "            tipo = coor[2]\n",
    "            if tipo == \"e\":\n",
    "                x_e.append(id)\n",
    "                y_e.append(tiempo)\n",
    "                z_e.append(dict_zeta[tipo])\n",
    "\n",
    "            elif tipo == \"a\":\n",
    "                x_a.append(id)\n",
    "                y_a.append(tiempo)\n",
    "                z_a.append(dict_zeta[tipo])\n",
    "            elif tipo == \"s\":\n",
    "                #sofreofera\n",
    "                x_s =[ id ]\n",
    "                y_s =[ tiempo]\n",
    "                z_s = [dict_zeta[tipo]]\n",
    "\n",
    "        ### graficamos todos los puntos segun sus colores\n",
    "        ax.scatter3D(x_e, y_e, z_e,color= colores['e'])\n",
    "        ax.scatter3D(x_a, y_a, z_a,color= colores['a'])\n",
    "        ax.scatter3D(x_s, y_s, z_s,color= colores['s'])\n",
    "\n",
    "\n",
    "        #añador arcos\n",
    "        if not dict_flujos:\n",
    "            #  Flujos va a ser igual a los arcos del grafo (para greficar TODOS LOS ARCOS)\n",
    "            flujos = dict(grafo.adjacency())\n",
    "        else:\n",
    "            # Flujos va a ser igual a los flujos entregados\n",
    "            flujos = dict_flujos\n",
    "        if not solo_nodos:\n",
    "            for inicio in flujos:\n",
    "                for fin in flujos[inicio]:\n",
    "                    # itera sobre todos los arcos pertenecientes a Flujo y los v graficando\n",
    "                    coor_in = coordenadas(inicio)\n",
    "                    coor_fn = coordenadas(fin)\n",
    "                    x = np.array((coor_in[0],coor_fn[0]))\n",
    "                    y = np.array((coor_in[1],coor_fn[1]))\n",
    "                    z = np.array((dict_zeta[coor_in[2]],dict_zeta[coor_fn[2]]))\n",
    "                    if not dict_flujos:\n",
    "                        ax.plot(x,y,z, alpha=0.7 ,c= colores[coor_fn[2]])\n",
    "                    elif dict_flujos[inicio][fin]:\n",
    "                        ax.plot(x,y,z, alpha=0.7 ,c= colores[coor_fn[2]])\n",
    "        ax.view_init(30, 210) #Es el ángulo en el que se muestra el gráfico: si están desde un editor, podrán girarlo\n",
    "        ax.set_xlabel('Id') # cambio los nombres de los ejes\n",
    "        ax.set_ylabel('Tiempo')\n",
    "        ax.set_zlabel('Tipo de punto')\n",
    "        return plt"
   ]
  },
  {
   "cell_type": "markdown",
   "metadata": {},
   "source": [
    "Esta es la función que pasa el dicionario a un excel, donde cada hoja del excel es un dia distinto, y es una lista con (origen, destino, cantidad transportada). Los flujos que son cero no se anotan en el excel. "
   ]
  },
  {
   "cell_type": "code",
   "execution_count": null,
   "metadata": {},
   "outputs": [],
   "source": [
    "def flow_to_xlsx(flow,outfile):\n",
    "    dias = defaultdict(list)\n",
    "\n",
    "    for inicio in flow:\n",
    "        for final in flow[inicio]:\n",
    "            coor_in = coordenadas(inicio)\n",
    "            coor_fn =  coordenadas(final)\n",
    "            if flow[inicio][final]:\n",
    "                dias[coor_in[1]].append([inicio,final,flow[inicio][final]])\n",
    "\n",
    "\n",
    "    workbook = xlsxwriter.Workbook(outfile)\n",
    "    for dia in dias:\n",
    "        worksheet = workbook.add_worksheet(f\"t{dia}\")\n",
    "\n",
    "\n",
    "        for row in range(0,len(dias[dia])):\n",
    "            arco = dias[dia][row]\n",
    "            for col in range(0,len(arco)):\n",
    "                worksheet.write(row, col ,arco[col])\n",
    "    workbook.close()"
   ]
  },
  {
   "cell_type": "markdown",
   "metadata": {},
   "source": [
    "Fución que se pide se pide en el enunciado, parte II. Grafica una representacion simple de la red."
   ]
  },
  {
   "cell_type": "code",
   "execution_count": null,
   "metadata": {},
   "outputs": [],
   "source": [
    "def grafico_pfmc():\n",
    "    #le cambie los valores para que tuviera solucion\n",
    "    encuentros = {'e0': {'t0': 22, 't1': 16}, 'e1': {'t0': 34, 't1': 26}}\n",
    "    abastecimientos = {'a0': {'t0': 720, 't1': 586}, 'a1': {'t0': 561, 't1': 985}}\n",
    "    transporte = {'a0': {'e0': (5, 32), 'e1': (6, 43)},'a1': {'e0': (7, 67), 'e1': (8, 36)}}\n",
    "    inventario = {'a0': (0, 427), 'a1': (0, 445)}\n",
    "    G = crear_grafo(abastecimientos,encuentros,transporte,inventario)\n",
    "    grafico = Graficar(G)\n",
    "    grafico.title(\"Representacion Simple\")\n",
    "    grafico.savefig(\"representacion_simple.png\")\n",
    "    #grafico.show()\n",
    "\n",
    "    \"\"\" Bonus: Esto resuleve el PFMC del ejemplo chico y lo grafica, podria mostrar las\n",
    "    cantidades de flujo en el grafico pero no nos dan puntaje por eso\"\"\"\n",
    "    flowDict = nx.min_cost_flow(G)\n",
    "    flow_to_xlsx(flowDict,\"Resultado Simple.xlsx\") #lo paso a excel\n",
    "    with open('resultado_simple.txt', 'w') as outfile: # y a txt pot si acaso\n",
    "        json.dump(flowDict, outfile)\n",
    "    grafico = Graficar(G,flowDict)\n",
    "    grafico.title(\"Solucion Simple\")\n",
    "    grafico.savefig(\"solucion_simple.png\")\n",
    "    #grafico.show()"
   ]
  },
  {
   "cell_type": "markdown",
   "metadata": {},
   "source": [
    "Se resuelve el problema con los valores en las bases de datos entregadas, retornando flujos en formato json."
   ]
  },
  {
   "cell_type": "code",
   "execution_count": null,
   "metadata": {},
   "outputs": [],
   "source": [
    "def resolver_pfmc(abastecimiento, encuentro, transporte, inventario) :\n",
    "    abastecimientos = abrir(f\"Instancias/{abastecimiento}\")\n",
    "    encuentros = abrir(f\"Instancias/{encuentro}\")\n",
    "    transporte = abrir (f\"Instancias/{transporte}\")\n",
    "    inventario = abrir (f\"Instancias/{inventario}\")\n",
    "    #crea un grafo con los datos de las intancias\n",
    "    G = crear_grafo(abastecimientos,encuentros,transporte,inventario)\n",
    "    flowDict = nx.min_cost_flow(G)\n",
    "    \"\"\"BONUS: grafica con solo los nodos\"\"\"\n",
    "    grafico = Graficar(G,solo_nodos=True)\n",
    "    grafico.title(\"Representacion Completa Solo Nodos\")\n",
    "    grafico.savefig(\"representacion_completa_solo_nodos.png\")\n",
    "    grafico.show()\n",
    "    flow_to_xlsx(flowDict,\"Resultado.xlsx\")\n",
    "    #guarda el resultado en el archivo resultado.txt\n",
    "    with open('resultado.txt', 'w') as outfile:\n",
    "        json.dump(flowDict, outfile)\n",
    "    return flowDict"
   ]
  },
  {
   "cell_type": "markdown",
   "metadata": {},
   "source": [
    "Se llama a la función grafico_pfmc() para que se ejecute."
   ]
  },
  {
   "cell_type": "code",
   "execution_count": null,
   "metadata": {},
   "outputs": [],
   "source": [
    "if __name__ != '__main__':\n",
    "    grafico_pfmc()"
   ]
  },
  {
   "cell_type": "markdown",
   "metadata": {},
   "source": [
    "Se llama a la función resolver_pfmc() para que se ejecute."
   ]
  },
  {
   "cell_type": "code",
   "execution_count": null,
   "metadata": {},
   "outputs": [],
   "source": [
    "if __name__ == '__main__':\n",
    "    resolver_pfmc(\"matriz_abastecimiento30x70.txt\",\n",
    "                    \"matriz_encuentro50x70.txt\",\n",
    "                    \"costos_transporte30x50.txt\",\n",
    "                    \"costos_inventario30.txt\")"
   ]
  }
 ],
 "metadata": {
  "kernelspec": {
   "display_name": "Python 3",
   "language": "python",
   "name": "python3"
  },
  "language_info": {
   "codemirror_mode": {
    "name": "ipython",
    "version": 3
   },
   "file_extension": ".py",
   "mimetype": "text/x-python",
   "name": "python",
   "nbconvert_exporter": "python",
   "pygments_lexer": "ipython3",
   "version": "3.7.4"
  }
 },
 "nbformat": 4,
 "nbformat_minor": 4
}
